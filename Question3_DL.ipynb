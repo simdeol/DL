{
  "nbformat": 4,
  "nbformat_minor": 0,
  "metadata": {
    "colab": {
      "provenance": []
    },
    "kernelspec": {
      "name": "python3",
      "display_name": "Python 3"
    },
    "language_info": {
      "name": "python"
    }
  },
  "cells": [
    {
      "cell_type": "code",
      "execution_count": 1,
      "metadata": {
        "colab": {
          "base_uri": "https://localhost:8080/"
        },
        "id": "hoDfL4lL686z",
        "outputId": "e2432055-8484-4b4f-ba26-bb3166fac47f"
      },
      "outputs": [
        {
          "output_type": "stream",
          "name": "stdout",
          "text": [
            "Weights for AND function: [[-0.2]\n",
            " [ 0.2]\n",
            " [ 0.1]]\n",
            "Weights for OR function: [[0. ]\n",
            " [0.1]\n",
            " [0.1]]\n",
            "Weights for NOT function: [[ 0.1]\n",
            " [-0.1]]\n",
            "Weights for NOR function: [[ 0.1]\n",
            " [-0.1]\n",
            " [-0.1]]\n",
            "Weights for NAND function: [[ 0.2]\n",
            " [-0.2]\n",
            " [-0.1]]\n"
          ]
        }
      ],
      "source": [
        "import numpy as np\n",
        "\n",
        "# perceptron function\n",
        "def perceptron(X, y, alpha=0.1, iterations=100):\n",
        "    m, n = X.shape\n",
        "    X = np.insert(X, 0, 1, axis=1)  # add bias term\n",
        "    w = np.zeros((n + 1, 1))\n",
        "\n",
        "    for i in range(iterations):\n",
        "        for j in range(m):\n",
        "            z = np.dot(X[j], w)\n",
        "            if z > 0:\n",
        "                y_pred = 1\n",
        "            else:\n",
        "                y_pred = 0\n",
        "            error = y[j] - y_pred\n",
        "            w = w + alpha * error * X[j][:, np.newaxis]\n",
        "\n",
        "    return w\n",
        "\n",
        "# AND function\n",
        "X_and = np.array([[0, 0], [0, 1], [1, 0], [1, 1]])\n",
        "y_and = np.array([[0], [0], [0], [1]])\n",
        "w_and = perceptron(X_and, y_and)\n",
        "print('Weights for AND function:', w_and)\n",
        "\n",
        "# OR function\n",
        "X_or = np.array([[0, 0], [0, 1], [1, 0], [1, 1]])\n",
        "y_or = np.array([[0], [1], [1], [1]])\n",
        "w_or = perceptron(X_or, y_or)\n",
        "print('Weights for OR function:', w_or)\n",
        "\n",
        "# NOT function\n",
        "X_not = np.array([[0], [1]])\n",
        "y_not = np.array([[1], [0]])\n",
        "w_not = perceptron(X_not, y_not)\n",
        "print('Weights for NOT function:', w_not)\n",
        "\n",
        "# NOR function\n",
        "X_nor = np.array([[0, 0], [0, 1], [1, 0], [1, 1]])\n",
        "y_nor = np.array([[1], [0], [0], [0]])\n",
        "w_nor = perceptron(X_nor, y_nor)\n",
        "print('Weights for NOR function:', w_nor)\n",
        "\n",
        "# NAND function\n",
        "X_nand = np.array([[0, 0], [0, 1], [1, 0], [1, 1]])\n",
        "y_nand = np.array([[1], [1], [1], [0]])\n",
        "w_nand = perceptron(X_nand, y_nand)\n",
        "print('Weights for NAND function:', w_nand)\n"
      ]
    }
  ]
}