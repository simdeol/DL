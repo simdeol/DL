{
  "nbformat": 4,
  "nbformat_minor": 0,
  "metadata": {
    "colab": {
      "provenance": []
    },
    "kernelspec": {
      "name": "python3",
      "display_name": "Python 3"
    },
    "language_info": {
      "name": "python"
    },
    "accelerator": "GPU",
    "gpuClass": "standard"
  },
  "cells": [
    {
      "cell_type": "code",
      "execution_count": null,
      "metadata": {
        "id": "FjIekVf5tNIp"
      },
      "outputs": [],
      "source": [
        "# Create a 2D and 3D CNN for image classification. Experiment with different depth of network, striding and pooling values."
      ]
    },
    {
      "cell_type": "code",
      "source": [
        "import pandas as pd\n",
        "import numpy as np\n",
        "import keras\n",
        "import tensorflow as tf"
      ],
      "metadata": {
        "id": "pZ3ZM_QGjjxq"
      },
      "execution_count": null,
      "outputs": []
    },
    {
      "cell_type": "code",
      "source": [
        "from keras.datasets import mnist"
      ],
      "metadata": {
        "id": "VnaIL2sHjpD0"
      },
      "execution_count": null,
      "outputs": []
    },
    {
      "cell_type": "code",
      "source": [
        "(x_train, y_train), (x_test, y_test)  = mnist.load_data()"
      ],
      "metadata": {
        "colab": {
          "base_uri": "https://localhost:8080/"
        },
        "id": "4SUHgw0bmnHV",
        "outputId": "6714924e-571a-490d-bfa4-475fec02e407"
      },
      "execution_count": null,
      "outputs": [
        {
          "output_type": "stream",
          "name": "stdout",
          "text": [
            "Downloading data from https://storage.googleapis.com/tensorflow/tf-keras-datasets/mnist.npz\n",
            "11490434/11490434 [==============================] - 0s 0us/step\n"
          ]
        }
      ]
    },
    {
      "cell_type": "code",
      "source": [
        "print (x_train.shape)\n",
        "print (x_test.shape)"
      ],
      "metadata": {
        "colab": {
          "base_uri": "https://localhost:8080/"
        },
        "id": "ija3IuS8mp4r",
        "outputId": "b6016fa2-19cc-4b5f-e8b3-7741980f9bab"
      },
      "execution_count": null,
      "outputs": [
        {
          "output_type": "stream",
          "name": "stdout",
          "text": [
            "(60000, 28, 28)\n",
            "(10000, 28, 28)\n"
          ]
        }
      ]
    },
    {
      "cell_type": "code",
      "source": [
        "x_train[0].dtype"
      ],
      "metadata": {
        "colab": {
          "base_uri": "https://localhost:8080/"
        },
        "id": "lhaUESs8mrvG",
        "outputId": "a52e95c5-569a-473c-c65a-23dd773f4c89"
      },
      "execution_count": null,
      "outputs": [
        {
          "output_type": "execute_result",
          "data": {
            "text/plain": [
              "dtype('uint8')"
            ]
          },
          "metadata": {},
          "execution_count": 5
        }
      ]
    },
    {
      "cell_type": "code",
      "source": [
        "img_rows = x_train[0].shape[0]\n",
        "img_cols = x_train[0].shape[1]"
      ],
      "metadata": {
        "id": "09py8jvdnnd0"
      },
      "execution_count": null,
      "outputs": []
    },
    {
      "cell_type": "code",
      "source": [
        "x_train = x_train.reshape(x_train.shape[0], img_rows, img_cols, 1)\n",
        "x_test = x_test.reshape(x_test.shape[0], img_rows, img_cols, 1)"
      ],
      "metadata": {
        "id": "T5PIWGTHnqSt"
      },
      "execution_count": null,
      "outputs": []
    },
    {
      "cell_type": "code",
      "source": [
        "input_shape = (img_rows, img_cols, 1)"
      ],
      "metadata": {
        "id": "XhZmqGITnv6k"
      },
      "execution_count": null,
      "outputs": []
    },
    {
      "cell_type": "code",
      "source": [
        "x_train = x_train.astype('float32')\n",
        "x_test = x_test.astype('float32')"
      ],
      "metadata": {
        "id": "eu4wCuG9n1j9"
      },
      "execution_count": null,
      "outputs": []
    },
    {
      "cell_type": "code",
      "source": [
        "x_train /= 255\n",
        "x_test /= 255"
      ],
      "metadata": {
        "id": "7c9w5D9GnPLK"
      },
      "execution_count": null,
      "outputs": []
    },
    {
      "cell_type": "code",
      "source": [
        "x_train.shape"
      ],
      "metadata": {
        "colab": {
          "base_uri": "https://localhost:8080/"
        },
        "id": "Oz65fNy3n8uK",
        "outputId": "6a4114c7-9db7-40df-e320-06eeec7f29ad"
      },
      "execution_count": null,
      "outputs": [
        {
          "output_type": "execute_result",
          "data": {
            "text/plain": [
              "(60000, 28, 28, 1)"
            ]
          },
          "metadata": {},
          "execution_count": 11
        }
      ]
    },
    {
      "cell_type": "code",
      "source": [
        "from keras.utils import np_utils"
      ],
      "metadata": {
        "id": "JyKDf0uU2zzj"
      },
      "execution_count": null,
      "outputs": []
    },
    {
      "cell_type": "code",
      "source": [
        "y_train = np_utils.to_categorical(y_train)\n",
        "y_test = np_utils.to_categorical(y_test)"
      ],
      "metadata": {
        "id": "-iqvY9fHn9lF"
      },
      "execution_count": null,
      "outputs": []
    },
    {
      "cell_type": "code",
      "source": [
        "num_classes = y_test.shape[1]\n",
        "num_pixels = x_train.shape[1] * x_train.shape[2]"
      ],
      "metadata": {
        "id": "tznqx1FCoKN1"
      },
      "execution_count": null,
      "outputs": []
    },
    {
      "cell_type": "markdown",
      "source": [
        "2D"
      ],
      "metadata": {
        "id": "_0fYaxZEoQdq"
      }
    },
    {
      "cell_type": "code",
      "source": [
        "from keras.models import Sequential\n",
        "from keras.layers import Dense, Dropout, Flatten\n",
        "from keras.layers import Conv2D, MaxPooling2D, Conv3D, MaxPooling3D\n",
        "from keras.optimizers import Adam\n"
      ],
      "metadata": {
        "id": "cLXW9so6ocQp"
      },
      "execution_count": null,
      "outputs": []
    },
    {
      "cell_type": "code",
      "source": [
        "model = Sequential()\n",
        "\n",
        "model.add(Conv2D(32, kernel_size=(3, 3), activation='relu', input_shape=input_shape))\n",
        "model.add(Conv2D(64, (3, 3), activation='relu'))\n",
        "model.add(MaxPooling2D(pool_size=(2, 2)))\n",
        "model.add(Dropout(0.25))\n",
        "model.add(Flatten())\n",
        "model.add(Dense(128, activation='relu'))\n",
        "model.add(Dropout(0.5))\n",
        "model.add(Dense(num_classes, activation='softmax'))\n",
        "\n",
        "model.compile(loss = 'categorical_crossentropy', optimizer = Adam(), metrics = ['accuracy'])"
      ],
      "metadata": {
        "id": "R4MNuhIroKx4"
      },
      "execution_count": null,
      "outputs": []
    },
    {
      "cell_type": "code",
      "source": [
        "print(model.summary())"
      ],
      "metadata": {
        "colab": {
          "base_uri": "https://localhost:8080/"
        },
        "id": "bgMC9vszoyVF",
        "outputId": "309a07b8-f96f-4f71-8224-6b9536897b4c"
      },
      "execution_count": null,
      "outputs": [
        {
          "output_type": "stream",
          "name": "stdout",
          "text": [
            "Model: \"sequential\"\n",
            "_________________________________________________________________\n",
            " Layer (type)                Output Shape              Param #   \n",
            "=================================================================\n",
            " conv2d (Conv2D)             (None, 26, 26, 32)        320       \n",
            "                                                                 \n",
            " conv2d_1 (Conv2D)           (None, 24, 24, 64)        18496     \n",
            "                                                                 \n",
            " max_pooling2d (MaxPooling2D  (None, 12, 12, 64)       0         \n",
            " )                                                               \n",
            "                                                                 \n",
            " dropout (Dropout)           (None, 12, 12, 64)        0         \n",
            "                                                                 \n",
            " flatten (Flatten)           (None, 9216)              0         \n",
            "                                                                 \n",
            " dense (Dense)               (None, 128)               1179776   \n",
            "                                                                 \n",
            " dropout_1 (Dropout)         (None, 128)               0         \n",
            "                                                                 \n",
            " dense_1 (Dense)             (None, 10)                1290      \n",
            "                                                                 \n",
            "=================================================================\n",
            "Total params: 1,199,882\n",
            "Trainable params: 1,199,882\n",
            "Non-trainable params: 0\n",
            "_________________________________________________________________\n",
            "None\n"
          ]
        }
      ]
    },
    {
      "cell_type": "code",
      "source": [
        "model.fit(x_train, y_train, batch_size = 32, epochs = 10, validation_data = (x_test, y_test))"
      ],
      "metadata": {
        "id": "CmngtTdBozaD"
      },
      "execution_count": null,
      "outputs": []
    },
    {
      "cell_type": "code",
      "source": [
        "score = model.evaluate(x_test, y_test)"
      ],
      "metadata": {
        "id": "pWURy5VLpGxb"
      },
      "execution_count": null,
      "outputs": []
    },
    {
      "cell_type": "markdown",
      "source": [
        "Experimenting with different depth of network, striding and pooling values."
      ],
      "metadata": {
        "id": "YF_Q5RETqAPG"
      }
    },
    {
      "cell_type": "code",
      "source": [
        "model = Sequential()\n",
        "\n",
        "model.add(Conv2D(64, kernel_size=(4, 4), activation='relu', input_shape=input_shape))\n",
        "model.add(Conv2D(128, (4, 4), activation='relu'))\n",
        "model.add(MaxPooling2D(pool_size=(3, 3)))\n",
        "model.add(Dropout(0.25))\n",
        "model.add(Flatten())\n",
        "model.add(Dense(256, activation='relu'))\n",
        "model.add(Dense(128, activation='relu'))\n",
        "model.add(Dropout(0.5))\n",
        "model.add(Dense(num_classes, activation='softmax'))\n",
        "\n",
        "model.compile(loss = 'categorical_crossentropy', optimizer = Adam(), metrics = ['accuracy'])"
      ],
      "metadata": {
        "id": "aaTFdcifpHOD"
      },
      "execution_count": null,
      "outputs": []
    },
    {
      "cell_type": "code",
      "source": [
        "model.summary()"
      ],
      "metadata": {
        "colab": {
          "base_uri": "https://localhost:8080/"
        },
        "id": "HXOXEcxpqmYB",
        "outputId": "21a438e1-8c20-4b85-ad5a-8223137afe96"
      },
      "execution_count": null,
      "outputs": [
        {
          "output_type": "stream",
          "name": "stdout",
          "text": [
            "Model: \"sequential_2\"\n",
            "_________________________________________________________________\n",
            " Layer (type)                Output Shape              Param #   \n",
            "=================================================================\n",
            " conv2d_4 (Conv2D)           (None, 25, 25, 64)        1088      \n",
            "                                                                 \n",
            " conv2d_5 (Conv2D)           (None, 22, 22, 128)       131200    \n",
            "                                                                 \n",
            " max_pooling2d_2 (MaxPooling  (None, 7, 7, 128)        0         \n",
            " 2D)                                                             \n",
            "                                                                 \n",
            " dropout_3 (Dropout)         (None, 7, 7, 128)         0         \n",
            "                                                                 \n",
            " flatten_2 (Flatten)         (None, 6272)              0         \n",
            "                                                                 \n",
            " dense_3 (Dense)             (None, 256)               1605888   \n",
            "                                                                 \n",
            " dense_4 (Dense)             (None, 128)               32896     \n",
            "                                                                 \n",
            " dropout_4 (Dropout)         (None, 128)               0         \n",
            "                                                                 \n",
            " dense_5 (Dense)             (None, 10)                1290      \n",
            "                                                                 \n",
            "=================================================================\n",
            "Total params: 1,772,362\n",
            "Trainable params: 1,772,362\n",
            "Non-trainable params: 0\n",
            "_________________________________________________________________\n"
          ]
        }
      ]
    },
    {
      "cell_type": "code",
      "source": [
        "model.fit(x_train, y_train, batch_size = 32, epochs = 10, validation_data = (x_test, y_test))"
      ],
      "metadata": {
        "id": "nUV9li7Rqz05"
      },
      "execution_count": null,
      "outputs": []
    },
    {
      "cell_type": "code",
      "source": [
        "score = model.evaluate(x_test, y_test)"
      ],
      "metadata": {
        "id": "gMJrXr7Xq5i8"
      },
      "execution_count": null,
      "outputs": []
    },
    {
      "cell_type": "markdown",
      "source": [
        "3D"
      ],
      "metadata": {
        "id": "s3XNVCuRrCuM"
      }
    },
    {
      "cell_type": "code",
      "source": [
        "import h5py"
      ],
      "metadata": {
        "id": "hW10vArp7gue"
      },
      "execution_count": null,
      "outputs": []
    },
    {
      "cell_type": "code",
      "source": [
        "with h5py.File('/content/full_dataset_vectors.h5', 'r') as dataset:\n",
        "    x_train = dataset[\"X_train\"][:]\n",
        "    x_test = dataset[\"X_test\"][:]\n",
        "    y_train = dataset[\"y_train\"][:]\n",
        "    y_test = dataset[\"y_test\"][:]"
      ],
      "metadata": {
        "id": "41TDfxBnAEKQ"
      },
      "execution_count": null,
      "outputs": []
    },
    {
      "cell_type": "code",
      "source": [
        "print (\"x_train shape: \", x_train.shape)\n",
        "print (\"y_train shape: \", y_train.shape)\n",
        "\n",
        "print (\"x_test shape:  \", x_test.shape)\n",
        "print (\"y_test shape:  \", y_test.shape)"
      ],
      "metadata": {
        "colab": {
          "base_uri": "https://localhost:8080/"
        },
        "id": "d8h81a6BApyV",
        "outputId": "e730fceb-36c7-4e73-bccd-52ab22c3c2b5"
      },
      "execution_count": null,
      "outputs": [
        {
          "output_type": "stream",
          "name": "stdout",
          "text": [
            "x_train shape:  (10000, 4096)\n",
            "y_train shape:  (10000,)\n",
            "x_test shape:   (2000, 4096)\n",
            "y_test shape:   (2000,)\n"
          ]
        }
      ]
    },
    {
      "cell_type": "code",
      "source": [
        "xtrain = np.ndarray((x_train.shape[0], 4096, 3))\n",
        "xtest = np.ndarray((x_test.shape[0], 4096, 3))\n",
        "\n",
        "def add_rgb_dimention(array):\n",
        "    scaler_map = cm.ScalarMappable(cmap=\"Oranges\")\n",
        "    array = scaler_map.to_rgba(array)[:, : -1]\n",
        "    return array\n",
        "\n",
        "for i in range(x_train.shape[0]):\n",
        "    xtrain[i] = add_rgb_dimention(x_train[i])\n",
        "for i in range(x_test.shape[0]):\n",
        "    xtest[i] = add_rgb_dimention(x_test[i])\n",
        "\n",
        "xtrain = xtrain.reshape(x_train.shape[0], 16, 16, 16, 3)\n",
        "xtest = xtest.reshape(x_test.shape[0], 16, 16, 16, 3)\n",
        "\n",
        "y_train = keras.utils.to_categorical(y_train, 10)\n",
        "y_test = keras.utils.to_categorical(y_test, 10)"
      ],
      "metadata": {
        "id": "jLMWG6V9BF6W"
      },
      "execution_count": null,
      "outputs": []
    },
    {
      "cell_type": "code",
      "source": [
        "y_train.shape"
      ],
      "metadata": {
        "colab": {
          "base_uri": "https://localhost:8080/"
        },
        "id": "zOOljm80B1Lw",
        "outputId": "d1490fe6-8200-43af-c4dd-89171136bb75"
      },
      "execution_count": null,
      "outputs": [
        {
          "output_type": "execute_result",
          "data": {
            "text/plain": [
              "(10000, 10)"
            ]
          },
          "metadata": {},
          "execution_count": 35
        }
      ]
    },
    {
      "cell_type": "code",
      "source": [
        "input_shape = (16,16,16,3)"
      ],
      "metadata": {
        "id": "CS-drC17CaDU"
      },
      "execution_count": null,
      "outputs": []
    },
    {
      "cell_type": "code",
      "source": [
        "model = Sequential()\n",
        "\n",
        "model.add(Conv3D(32, kernel_size=(3, 3, 3), activation='relu', input_shape=input_shape))\n",
        "model.add(Conv3D(64, (3, 3, 3), activation='relu'))\n",
        "model.add(MaxPooling3D(pool_size=(2, 2, 2)))\n",
        "model.add(Dropout(0.25))\n",
        "model.add(Flatten())\n",
        "model.add(Dense(128, activation='relu'))\n",
        "model.add(Dropout(0.5))\n",
        "model.add(Dense(10, activation='softmax'))\n",
        "\n",
        "model.compile(loss = 'categorical_crossentropy', optimizer = Adam(), metrics = ['accuracy'])"
      ],
      "metadata": {
        "id": "vzNYsYC9CXS4"
      },
      "execution_count": null,
      "outputs": []
    },
    {
      "cell_type": "code",
      "source": [
        "model.summary()"
      ],
      "metadata": {
        "colab": {
          "base_uri": "https://localhost:8080/"
        },
        "id": "bvD1fpQ8C7xV",
        "outputId": "76518f30-028e-44d8-9b0b-8f9c79008314"
      },
      "execution_count": null,
      "outputs": [
        {
          "output_type": "stream",
          "name": "stdout",
          "text": [
            "Model: \"sequential_2\"\n",
            "_________________________________________________________________\n",
            " Layer (type)                Output Shape              Param #   \n",
            "=================================================================\n",
            " conv3d_4 (Conv3D)           (None, 14, 14, 14, 32)    2624      \n",
            "                                                                 \n",
            " conv3d_5 (Conv3D)           (None, 12, 12, 12, 64)    55360     \n",
            "                                                                 \n",
            " max_pooling3d_3 (MaxPooling  (None, 6, 6, 6, 64)      0         \n",
            " 3D)                                                             \n",
            "                                                                 \n",
            " dropout_3 (Dropout)         (None, 6, 6, 6, 64)       0         \n",
            "                                                                 \n",
            " flatten_2 (Flatten)         (None, 13824)             0         \n",
            "                                                                 \n",
            " dense_3 (Dense)             (None, 128)               1769600   \n",
            "                                                                 \n",
            " dropout_4 (Dropout)         (None, 128)               0         \n",
            "                                                                 \n",
            " dense_4 (Dense)             (None, 10)                1290      \n",
            "                                                                 \n",
            "=================================================================\n",
            "Total params: 1,828,874\n",
            "Trainable params: 1,828,874\n",
            "Non-trainable params: 0\n",
            "_________________________________________________________________\n"
          ]
        }
      ]
    },
    {
      "cell_type": "code",
      "source": [
        "model.fit(xtrain, y_train, batch_size = 32, epochs = 10, validation_data = (xtest, y_test))"
      ],
      "metadata": {
        "colab": {
          "base_uri": "https://localhost:8080/"
        },
        "id": "ZVGiZcXfCw7u",
        "outputId": "58513e55-f189-4039-cf4b-a6c0fcfd95e0"
      },
      "execution_count": null,
      "outputs": [
        {
          "output_type": "stream",
          "name": "stdout",
          "text": [
            "Epoch 1/10\n",
            "313/313 [==============================] - 14s 17ms/step - loss: 1.8638 - accuracy: 0.3358 - val_loss: 1.2415 - val_accuracy: 0.5670\n",
            "Epoch 2/10\n",
            "313/313 [==============================] - 4s 14ms/step - loss: 1.3038 - accuracy: 0.5482 - val_loss: 1.0726 - val_accuracy: 0.6260\n",
            "Epoch 3/10\n",
            "313/313 [==============================] - 4s 14ms/step - loss: 1.1693 - accuracy: 0.5923 - val_loss: 0.9863 - val_accuracy: 0.6545\n",
            "Epoch 4/10\n",
            "313/313 [==============================] - 4s 13ms/step - loss: 1.0846 - accuracy: 0.6161 - val_loss: 0.9371 - val_accuracy: 0.6645\n",
            "Epoch 5/10\n",
            "313/313 [==============================] - 5s 15ms/step - loss: 1.0097 - accuracy: 0.6476 - val_loss: 0.9406 - val_accuracy: 0.6660\n",
            "Epoch 6/10\n",
            "313/313 [==============================] - 4s 13ms/step - loss: 0.9584 - accuracy: 0.6598 - val_loss: 0.9183 - val_accuracy: 0.6735\n",
            "Epoch 7/10\n",
            "313/313 [==============================] - 4s 14ms/step - loss: 0.9144 - accuracy: 0.6717 - val_loss: 0.8639 - val_accuracy: 0.6965\n",
            "Epoch 8/10\n",
            "313/313 [==============================] - 5s 15ms/step - loss: 0.8534 - accuracy: 0.6921 - val_loss: 0.8581 - val_accuracy: 0.7045\n",
            "Epoch 9/10\n",
            "313/313 [==============================] - 5s 15ms/step - loss: 0.8141 - accuracy: 0.7052 - val_loss: 0.8510 - val_accuracy: 0.7010\n",
            "Epoch 10/10\n",
            "313/313 [==============================] - 6s 18ms/step - loss: 0.7782 - accuracy: 0.7179 - val_loss: 0.8703 - val_accuracy: 0.6995\n"
          ]
        },
        {
          "output_type": "execute_result",
          "data": {
            "text/plain": [
              "<keras.callbacks.History at 0x7f0490649e40>"
            ]
          },
          "metadata": {},
          "execution_count": 41
        }
      ]
    },
    {
      "cell_type": "code",
      "source": [
        "score = model.evaluate(xtest, y_test)"
      ],
      "metadata": {
        "colab": {
          "base_uri": "https://localhost:8080/"
        },
        "id": "GO_0i8h1DEJc",
        "outputId": "55abe6d3-857c-4071-d8ec-eeb77dd5d1ee"
      },
      "execution_count": null,
      "outputs": [
        {
          "output_type": "stream",
          "name": "stdout",
          "text": [
            "63/63 [==============================] - 0s 7ms/step - loss: 0.8703 - accuracy: 0.6995\n"
          ]
        }
      ]
    },
    {
      "cell_type": "markdown",
      "source": [
        "Experimenting with different depth of network, striding and pooling values."
      ],
      "metadata": {
        "id": "dIjXgMhUDqgJ"
      }
    },
    {
      "cell_type": "code",
      "source": [
        "model = Sequential()\n",
        "\n",
        "model.add(Conv3D(64, kernel_size=(4,4, 4), activation='relu', input_shape=input_shape))\n",
        "model.add(Conv3D(128, (4,4, 4), activation='relu'))\n",
        "model.add(MaxPooling3D(pool_size=(3, 3,3)))\n",
        "model.add(Dropout(0.25))\n",
        "model.add(Flatten())\n",
        "model.add(Dense(256, activation='relu'))\n",
        "model.add(Dense(128, activation='relu'))\n",
        "model.add(Dropout(0.5))\n",
        "model.add(Dense(10, activation='softmax'))\n",
        "\n",
        "model.compile(loss = 'categorical_crossentropy', optimizer = Adam(), metrics = ['accuracy'])"
      ],
      "metadata": {
        "id": "qvvtaipqDlVO"
      },
      "execution_count": null,
      "outputs": []
    },
    {
      "cell_type": "code",
      "source": [
        "model.summary()"
      ],
      "metadata": {
        "colab": {
          "base_uri": "https://localhost:8080/"
        },
        "id": "-OaUtATDDzX4",
        "outputId": "e4f1299a-2676-44da-d8f0-44fccb753e36"
      },
      "execution_count": null,
      "outputs": [
        {
          "output_type": "stream",
          "name": "stdout",
          "text": [
            "Model: \"sequential_5\"\n",
            "_________________________________________________________________\n",
            " Layer (type)                Output Shape              Param #   \n",
            "=================================================================\n",
            " conv3d_10 (Conv3D)          (None, 13, 13, 13, 64)    12352     \n",
            "                                                                 \n",
            " conv3d_11 (Conv3D)          (None, 10, 10, 10, 128)   524416    \n",
            "                                                                 \n",
            " max_pooling3d_6 (MaxPooling  (None, 3, 3, 3, 128)     0         \n",
            " 3D)                                                             \n",
            "                                                                 \n",
            " dropout_7 (Dropout)         (None, 3, 3, 3, 128)      0         \n",
            "                                                                 \n",
            " flatten_4 (Flatten)         (None, 3456)              0         \n",
            "                                                                 \n",
            " dense_7 (Dense)             (None, 256)               884992    \n",
            "                                                                 \n",
            " dense_8 (Dense)             (None, 128)               32896     \n",
            "                                                                 \n",
            " dropout_8 (Dropout)         (None, 128)               0         \n",
            "                                                                 \n",
            " dense_9 (Dense)             (None, 10)                1290      \n",
            "                                                                 \n",
            "=================================================================\n",
            "Total params: 1,455,946\n",
            "Trainable params: 1,455,946\n",
            "Non-trainable params: 0\n",
            "_________________________________________________________________\n"
          ]
        }
      ]
    },
    {
      "cell_type": "code",
      "source": [
        "model.fit(xtrain, y_train, batch_size = 32, epochs = 10, validation_data = (xtest, y_test))"
      ],
      "metadata": {
        "colab": {
          "base_uri": "https://localhost:8080/"
        },
        "id": "5o8nYTQJD5_n",
        "outputId": "3cb058e9-2b28-4b92-99ce-385428ca67fc"
      },
      "execution_count": null,
      "outputs": [
        {
          "output_type": "stream",
          "name": "stdout",
          "text": [
            "Epoch 1/10\n",
            "313/313 [==============================] - 10s 29ms/step - loss: 2.3040 - accuracy: 0.1075 - val_loss: 2.3001 - val_accuracy: 0.1260\n",
            "Epoch 2/10\n",
            "313/313 [==============================] - 9s 28ms/step - loss: 2.3003 - accuracy: 0.1081 - val_loss: 2.2990 - val_accuracy: 0.1260\n",
            "Epoch 3/10\n",
            "313/313 [==============================] - 9s 28ms/step - loss: 2.3001 - accuracy: 0.1126 - val_loss: 2.2990 - val_accuracy: 0.1260\n",
            "Epoch 4/10\n",
            "313/313 [==============================] - 9s 30ms/step - loss: 2.3000 - accuracy: 0.1103 - val_loss: 2.2989 - val_accuracy: 0.1260\n",
            "Epoch 5/10\n",
            "313/313 [==============================] - 9s 27ms/step - loss: 2.3003 - accuracy: 0.1120 - val_loss: 2.2992 - val_accuracy: 0.1260\n",
            "Epoch 6/10\n",
            "313/313 [==============================] - 9s 30ms/step - loss: 2.3002 - accuracy: 0.1125 - val_loss: 2.2990 - val_accuracy: 0.1260\n",
            "Epoch 7/10\n",
            "313/313 [==============================] - 9s 28ms/step - loss: 2.3001 - accuracy: 0.1122 - val_loss: 2.2990 - val_accuracy: 0.1260\n",
            "Epoch 8/10\n",
            "313/313 [==============================] - 9s 28ms/step - loss: 2.3001 - accuracy: 0.1097 - val_loss: 2.2988 - val_accuracy: 0.1260\n",
            "Epoch 9/10\n",
            "313/313 [==============================] - 9s 28ms/step - loss: 2.3003 - accuracy: 0.1126 - val_loss: 2.2987 - val_accuracy: 0.1260\n",
            "Epoch 10/10\n",
            "313/313 [==============================] - 9s 28ms/step - loss: 2.3001 - accuracy: 0.1110 - val_loss: 2.2988 - val_accuracy: 0.1260\n"
          ]
        },
        {
          "output_type": "execute_result",
          "data": {
            "text/plain": [
              "<keras.callbacks.History at 0x7f04901b8bb0>"
            ]
          },
          "metadata": {},
          "execution_count": 47
        }
      ]
    },
    {
      "cell_type": "code",
      "source": [
        "score = model.evaluate(xtest, y_test)"
      ],
      "metadata": {
        "colab": {
          "base_uri": "https://localhost:8080/"
        },
        "id": "KSrPWpLsD8b8",
        "outputId": "21a9eabd-5b16-4595-9851-f45fb17cd766"
      },
      "execution_count": null,
      "outputs": [
        {
          "output_type": "stream",
          "name": "stdout",
          "text": [
            "63/63 [==============================] - 1s 12ms/step - loss: 2.2988 - accuracy: 0.1260\n"
          ]
        }
      ]
    },
    {
      "cell_type": "code",
      "source": [],
      "metadata": {
        "id": "UQQ3O7pvEANj"
      },
      "execution_count": null,
      "outputs": []
    }
  ]
}