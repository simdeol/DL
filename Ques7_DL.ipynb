{
  "nbformat": 4,
  "nbformat_minor": 0,
  "metadata": {
    "colab": {
      "provenance": []
    },
    "kernelspec": {
      "name": "python3",
      "display_name": "Python 3"
    },
    "language_info": {
      "name": "python"
    }
  },
  "cells": [
    {
      "cell_type": "markdown",
      "source": [
        "RNN GRU"
      ],
      "metadata": {
        "id": "3XkTARBBuT8v"
      }
    },
    {
      "cell_type": "code",
      "execution_count": 1,
      "metadata": {
        "id": "duOGCrGTt03F"
      },
      "outputs": [],
      "source": [
        "import tensorflow as tf\n",
        "import numpy as np\n",
        "import matplotlib.pyplot as plt"
      ]
    },
    {
      "cell_type": "code",
      "source": [
        "fas_mnist=tf.keras.datasets.fashion_mnist"
      ],
      "metadata": {
        "id": "g21e_eeFt_8j"
      },
      "execution_count": 2,
      "outputs": []
    },
    {
      "cell_type": "code",
      "source": [
        "(train_images,train_labels),(test_images,test_labels)=fas_mnist.load_data()"
      ],
      "metadata": {
        "colab": {
          "base_uri": "https://localhost:8080/"
        },
        "id": "lWuYaFKnuDqn",
        "outputId": "997afce9-be77-4bd3-e1df-07f1095d3a50"
      },
      "execution_count": 3,
      "outputs": [
        {
          "output_type": "stream",
          "name": "stdout",
          "text": [
            "Downloading data from https://storage.googleapis.com/tensorflow/tf-keras-datasets/train-labels-idx1-ubyte.gz\n",
            "29515/29515 [==============================] - 0s 0us/step\n",
            "Downloading data from https://storage.googleapis.com/tensorflow/tf-keras-datasets/train-images-idx3-ubyte.gz\n",
            "26421880/26421880 [==============================] - 0s 0us/step\n",
            "Downloading data from https://storage.googleapis.com/tensorflow/tf-keras-datasets/t10k-labels-idx1-ubyte.gz\n",
            "5148/5148 [==============================] - 0s 0us/step\n",
            "Downloading data from https://storage.googleapis.com/tensorflow/tf-keras-datasets/t10k-images-idx3-ubyte.gz\n",
            "4422102/4422102 [==============================] - 0s 0us/step\n"
          ]
        }
      ]
    },
    {
      "cell_type": "code",
      "source": [
        "train_images=train_images.reshape(60000, 28, 28)\n",
        "train_images=train_images / 255.0 #Standardising\n",
        "test_images = test_images.reshape(10000, 28, 28)\n",
        "test_images=test_images/255.0 #Standardising"
      ],
      "metadata": {
        "id": "UprmLPVSuGCY"
      },
      "execution_count": 4,
      "outputs": []
    },
    {
      "cell_type": "code",
      "source": [
        "model = tf.keras.Sequential([\n",
        "  tf.keras.Input(shape=(28,28)),\n",
        "  tf.keras.layers.GRU(128),\n",
        "  tf.keras.layers.Dense(128, activation='relu',input_shape=(28, 28, )),\n",
        "  tf.keras.layers.Dropout(0.2,input_shape=(128,)),\n",
        "  tf.keras.layers.Dense(10, activation='softmax')\n",
        "])"
      ],
      "metadata": {
        "id": "mTDLU0AluJYw"
      },
      "execution_count": 13,
      "outputs": []
    },
    {
      "cell_type": "code",
      "source": [
        "model.summary()"
      ],
      "metadata": {
        "colab": {
          "base_uri": "https://localhost:8080/"
        },
        "id": "KrJqMqWAuSwi",
        "outputId": "9e5a1273-171d-4325-dbd8-6866c3b41362"
      },
      "execution_count": 14,
      "outputs": [
        {
          "output_type": "stream",
          "name": "stdout",
          "text": [
            "Model: \"sequential_2\"\n",
            "_________________________________________________________________\n",
            " Layer (type)                Output Shape              Param #   \n",
            "=================================================================\n",
            " gru_1 (GRU)                 (None, 128)               60672     \n",
            "                                                                 \n",
            " dense_4 (Dense)             (None, 128)               16512     \n",
            "                                                                 \n",
            " dropout_2 (Dropout)         (None, 128)               0         \n",
            "                                                                 \n",
            " dense_5 (Dense)             (None, 10)                1290      \n",
            "                                                                 \n",
            "=================================================================\n",
            "Total params: 78,474\n",
            "Trainable params: 78,474\n",
            "Non-trainable params: 0\n",
            "_________________________________________________________________\n"
          ]
        }
      ]
    },
    {
      "cell_type": "code",
      "source": [
        "model.compile(optimizer='adam', loss='sparse_categorical_crossentropy', metrics=['accuracy'])"
      ],
      "metadata": {
        "id": "4VOhlZMIunfg"
      },
      "execution_count": 15,
      "outputs": []
    },
    {
      "cell_type": "code",
      "source": [
        "trainer=model.fit(train_images, train_labels,validation_data=(test_images,test_labels), epochs=20)"
      ],
      "metadata": {
        "colab": {
          "base_uri": "https://localhost:8080/"
        },
        "id": "GHDzwBEfuwsn",
        "outputId": "b0f82b2d-6ceb-4ae6-bec1-b940453a60d9"
      },
      "execution_count": 16,
      "outputs": [
        {
          "output_type": "stream",
          "name": "stdout",
          "text": [
            "Epoch 1/20\n",
            "1875/1875 [==============================] - 69s 36ms/step - loss: 0.6114 - accuracy: 0.7722 - val_loss: 0.4335 - val_accuracy: 0.8408\n",
            "Epoch 2/20\n",
            "1875/1875 [==============================] - 57s 31ms/step - loss: 0.3999 - accuracy: 0.8544 - val_loss: 0.4585 - val_accuracy: 0.8314\n",
            "Epoch 3/20\n",
            "1875/1875 [==============================] - 59s 31ms/step - loss: 0.3508 - accuracy: 0.8719 - val_loss: 0.3680 - val_accuracy: 0.8635\n",
            "Epoch 4/20\n",
            "1875/1875 [==============================] - 59s 31ms/step - loss: 0.3232 - accuracy: 0.8808 - val_loss: 0.3294 - val_accuracy: 0.8751\n",
            "Epoch 5/20\n",
            "1875/1875 [==============================] - 60s 32ms/step - loss: 0.2988 - accuracy: 0.8899 - val_loss: 0.3270 - val_accuracy: 0.8785\n",
            "Epoch 6/20\n",
            "1875/1875 [==============================] - 62s 33ms/step - loss: 0.2819 - accuracy: 0.8946 - val_loss: 0.3013 - val_accuracy: 0.8896\n",
            "Epoch 7/20\n",
            "1875/1875 [==============================] - 57s 31ms/step - loss: 0.2654 - accuracy: 0.9009 - val_loss: 0.2962 - val_accuracy: 0.8899\n",
            "Epoch 8/20\n",
            "1875/1875 [==============================] - 59s 31ms/step - loss: 0.2523 - accuracy: 0.9052 - val_loss: 0.2982 - val_accuracy: 0.8904\n",
            "Epoch 9/20\n",
            "1875/1875 [==============================] - 62s 33ms/step - loss: 0.2390 - accuracy: 0.9098 - val_loss: 0.2860 - val_accuracy: 0.8948\n",
            "Epoch 10/20\n",
            "1875/1875 [==============================] - 61s 33ms/step - loss: 0.2281 - accuracy: 0.9149 - val_loss: 0.2788 - val_accuracy: 0.8984\n",
            "Epoch 11/20\n",
            "1875/1875 [==============================] - 59s 31ms/step - loss: 0.2180 - accuracy: 0.9177 - val_loss: 0.2959 - val_accuracy: 0.8909\n",
            "Epoch 12/20\n",
            "1875/1875 [==============================] - 63s 34ms/step - loss: 0.2080 - accuracy: 0.9207 - val_loss: 0.2961 - val_accuracy: 0.9006\n",
            "Epoch 13/20\n",
            "1875/1875 [==============================] - 63s 33ms/step - loss: 0.2000 - accuracy: 0.9242 - val_loss: 0.2857 - val_accuracy: 0.8997\n",
            "Epoch 14/20\n",
            "1875/1875 [==============================] - 61s 32ms/step - loss: 0.1905 - accuracy: 0.9285 - val_loss: 0.2778 - val_accuracy: 0.9024\n",
            "Epoch 15/20\n",
            "1875/1875 [==============================] - 59s 31ms/step - loss: 0.1829 - accuracy: 0.9296 - val_loss: 0.2873 - val_accuracy: 0.9042\n",
            "Epoch 16/20\n",
            "1875/1875 [==============================] - 62s 33ms/step - loss: 0.1748 - accuracy: 0.9332 - val_loss: 0.3028 - val_accuracy: 0.9009\n",
            "Epoch 17/20\n",
            "1875/1875 [==============================] - 61s 32ms/step - loss: 0.1674 - accuracy: 0.9357 - val_loss: 0.2819 - val_accuracy: 0.9075\n",
            "Epoch 18/20\n",
            "1875/1875 [==============================] - 61s 33ms/step - loss: 0.1598 - accuracy: 0.9387 - val_loss: 0.2972 - val_accuracy: 0.9050\n",
            "Epoch 19/20\n",
            "1875/1875 [==============================] - 62s 33ms/step - loss: 0.1551 - accuracy: 0.9399 - val_loss: 0.3009 - val_accuracy: 0.9050\n",
            "Epoch 20/20\n",
            "1875/1875 [==============================] - 59s 32ms/step - loss: 0.1474 - accuracy: 0.9433 - val_loss: 0.3075 - val_accuracy: 0.9024\n"
          ]
        }
      ]
    },
    {
      "cell_type": "markdown",
      "source": [
        "LSTM"
      ],
      "metadata": {
        "id": "9uJ98oOkKNHw"
      }
    },
    {
      "cell_type": "code",
      "source": [
        "model = tf.keras.Sequential([\n",
        "  tf.keras.Input(shape=(28,28)),\n",
        "  tf.keras.layers.LSTM(128),\n",
        "  tf.keras.layers.Dense(128, activation='relu',input_shape=(28, 28, )),\n",
        "  tf.keras.layers.Dropout(0.2,input_shape=(128,)),\n",
        "  tf.keras.layers.Dense(10, activation='softmax')\n",
        "])"
      ],
      "metadata": {
        "id": "Ldtp2Camup1N"
      },
      "execution_count": 17,
      "outputs": []
    },
    {
      "cell_type": "code",
      "source": [
        "model.summary()"
      ],
      "metadata": {
        "colab": {
          "base_uri": "https://localhost:8080/"
        },
        "id": "Drzidvb1uuT9",
        "outputId": "827a0647-7af1-46ed-a288-436ee0ff683c"
      },
      "execution_count": 18,
      "outputs": [
        {
          "output_type": "stream",
          "name": "stdout",
          "text": [
            "Model: \"sequential_3\"\n",
            "_________________________________________________________________\n",
            " Layer (type)                Output Shape              Param #   \n",
            "=================================================================\n",
            " lstm (LSTM)                 (None, 128)               80384     \n",
            "                                                                 \n",
            " dense_6 (Dense)             (None, 128)               16512     \n",
            "                                                                 \n",
            " dropout_3 (Dropout)         (None, 128)               0         \n",
            "                                                                 \n",
            " dense_7 (Dense)             (None, 10)                1290      \n",
            "                                                                 \n",
            "=================================================================\n",
            "Total params: 98,186\n",
            "Trainable params: 98,186\n",
            "Non-trainable params: 0\n",
            "_________________________________________________________________\n"
          ]
        }
      ]
    },
    {
      "cell_type": "code",
      "source": [
        "model.compile(optimizer='adam', loss='sparse_categorical_crossentropy', metrics=['accuracy'])"
      ],
      "metadata": {
        "id": "atXgdFhiuzUI"
      },
      "execution_count": 19,
      "outputs": []
    },
    {
      "cell_type": "code",
      "source": [
        "trainer=model.fit(train_images, train_labels,validation_data=(test_images,test_labels), epochs=20)"
      ],
      "metadata": {
        "colab": {
          "base_uri": "https://localhost:8080/"
        },
        "id": "DqfjX9BqM5_N",
        "outputId": "e205b2d1-3326-47a4-87b4-c5345b1d6d0d"
      },
      "execution_count": 20,
      "outputs": [
        {
          "output_type": "stream",
          "name": "stdout",
          "text": [
            "Epoch 1/20\n",
            "1875/1875 [==============================] - 91s 46ms/step - loss: 0.5978 - accuracy: 0.7746 - val_loss: 0.4355 - val_accuracy: 0.8385\n",
            "Epoch 2/20\n",
            "1875/1875 [==============================] - 86s 46ms/step - loss: 0.4112 - accuracy: 0.8483 - val_loss: 0.4246 - val_accuracy: 0.8383\n",
            "Epoch 3/20\n",
            "1875/1875 [==============================] - 83s 44ms/step - loss: 0.3622 - accuracy: 0.8659 - val_loss: 0.3774 - val_accuracy: 0.8562\n",
            "Epoch 4/20\n",
            "1875/1875 [==============================] - 86s 46ms/step - loss: 0.3327 - accuracy: 0.8771 - val_loss: 0.3382 - val_accuracy: 0.8763\n",
            "Epoch 5/20\n",
            "1875/1875 [==============================] - 84s 45ms/step - loss: 0.3104 - accuracy: 0.8851 - val_loss: 0.3385 - val_accuracy: 0.8733\n",
            "Epoch 6/20\n",
            "1875/1875 [==============================] - 84s 45ms/step - loss: 0.2924 - accuracy: 0.8915 - val_loss: 0.3195 - val_accuracy: 0.8852\n",
            "Epoch 7/20\n",
            "1875/1875 [==============================] - 79s 42ms/step - loss: 0.2779 - accuracy: 0.8956 - val_loss: 0.3092 - val_accuracy: 0.8904\n",
            "Epoch 8/20\n",
            "1875/1875 [==============================] - 84s 45ms/step - loss: 0.2658 - accuracy: 0.9000 - val_loss: 0.3117 - val_accuracy: 0.8860\n",
            "Epoch 9/20\n",
            "1875/1875 [==============================] - 82s 44ms/step - loss: 0.2504 - accuracy: 0.9052 - val_loss: 0.2973 - val_accuracy: 0.8900\n",
            "Epoch 10/20\n",
            "1875/1875 [==============================] - 85s 45ms/step - loss: 0.2411 - accuracy: 0.9079 - val_loss: 0.3037 - val_accuracy: 0.8876\n",
            "Epoch 11/20\n",
            "1875/1875 [==============================] - 80s 42ms/step - loss: 0.2294 - accuracy: 0.9135 - val_loss: 0.2945 - val_accuracy: 0.8955\n",
            "Epoch 12/20\n",
            "1875/1875 [==============================] - 80s 43ms/step - loss: 0.2211 - accuracy: 0.9167 - val_loss: 0.2822 - val_accuracy: 0.8974\n",
            "Epoch 13/20\n",
            "1875/1875 [==============================] - 81s 43ms/step - loss: 0.2115 - accuracy: 0.9197 - val_loss: 0.2817 - val_accuracy: 0.8997\n",
            "Epoch 14/20\n",
            "1875/1875 [==============================] - 80s 43ms/step - loss: 0.2007 - accuracy: 0.9226 - val_loss: 0.2819 - val_accuracy: 0.9019\n",
            "Epoch 15/20\n",
            "1875/1875 [==============================] - 81s 43ms/step - loss: 0.1945 - accuracy: 0.9263 - val_loss: 0.2910 - val_accuracy: 0.9033\n",
            "Epoch 16/20\n",
            "1875/1875 [==============================] - 81s 43ms/step - loss: 0.1884 - accuracy: 0.9282 - val_loss: 0.2952 - val_accuracy: 0.8967\n",
            "Epoch 17/20\n",
            "1875/1875 [==============================] - 86s 46ms/step - loss: 0.1771 - accuracy: 0.9320 - val_loss: 0.2980 - val_accuracy: 0.9008\n",
            "Epoch 18/20\n",
            "1875/1875 [==============================] - 81s 43ms/step - loss: 0.1729 - accuracy: 0.9339 - val_loss: 0.3056 - val_accuracy: 0.8980\n",
            "Epoch 19/20\n",
            "1875/1875 [==============================] - 81s 43ms/step - loss: 0.1648 - accuracy: 0.9363 - val_loss: 0.3104 - val_accuracy: 0.8965\n",
            "Epoch 20/20\n",
            "1875/1875 [==============================] - 83s 44ms/step - loss: 0.1565 - accuracy: 0.9383 - val_loss: 0.3266 - val_accuracy: 0.9000\n"
          ]
        }
      ]
    },
    {
      "cell_type": "code",
      "source": [],
      "metadata": {
        "id": "k9T3Jd6GM8YW"
      },
      "execution_count": null,
      "outputs": []
    }
  ]
}