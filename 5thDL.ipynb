{
  "nbformat": 4,
  "nbformat_minor": 0,
  "metadata": {
    "colab": {
      "provenance": []
    },
    "kernelspec": {
      "name": "python3",
      "display_name": "Python 3"
    },
    "language_info": {
      "name": "python"
    }
  },
  "cells": [
    {
      "cell_type": "code",
      "execution_count": null,
      "metadata": {
        "id": "1Cticla3b-9S"
      },
      "outputs": [],
      "source": [
        "# Train and test a feed-forward neural network for multi-class classification using softmax layer as output."
      ]
    },
    {
      "cell_type": "code",
      "source": [
        "import pandas as pd\n"
      ],
      "metadata": {
        "id": "2UEs8boAi9hw"
      },
      "execution_count": null,
      "outputs": []
    },
    {
      "cell_type": "code",
      "source": [
        "df = pd.read_csv('/content/winequality-red.csv')"
      ],
      "metadata": {
        "id": "EOUgQXb6jXQj"
      },
      "execution_count": null,
      "outputs": []
    },
    {
      "cell_type": "code",
      "source": [
        "df.head(2)"
      ],
      "metadata": {
        "colab": {
          "base_uri": "https://localhost:8080/",
          "height": 191
        },
        "id": "4tHMJR1sjaut",
        "outputId": "c4a95585-46bf-4938-bc0c-c1642d26c569"
      },
      "execution_count": null,
      "outputs": [
        {
          "output_type": "execute_result",
          "data": {
            "text/plain": [
              "   fixed acidity  volatile acidity  citric acid  residual sugar  chlorides  \\\n",
              "0            7.4              0.70          0.0             1.9      0.076   \n",
              "1            7.8              0.88          0.0             2.6      0.098   \n",
              "\n",
              "   free sulfur dioxide  total sulfur dioxide  density    pH  sulphates  \\\n",
              "0                 11.0                  34.0   0.9978  3.51       0.56   \n",
              "1                 25.0                  67.0   0.9968  3.20       0.68   \n",
              "\n",
              "   alcohol  quality  \n",
              "0      9.4        5  \n",
              "1      9.8        5  "
            ],
            "text/html": [
              "\n",
              "  <div id=\"df-5bbba822-0d85-4a7d-9008-ffbee1f228ea\">\n",
              "    <div class=\"colab-df-container\">\n",
              "      <div>\n",
              "<style scoped>\n",
              "    .dataframe tbody tr th:only-of-type {\n",
              "        vertical-align: middle;\n",
              "    }\n",
              "\n",
              "    .dataframe tbody tr th {\n",
              "        vertical-align: top;\n",
              "    }\n",
              "\n",
              "    .dataframe thead th {\n",
              "        text-align: right;\n",
              "    }\n",
              "</style>\n",
              "<table border=\"1\" class=\"dataframe\">\n",
              "  <thead>\n",
              "    <tr style=\"text-align: right;\">\n",
              "      <th></th>\n",
              "      <th>fixed acidity</th>\n",
              "      <th>volatile acidity</th>\n",
              "      <th>citric acid</th>\n",
              "      <th>residual sugar</th>\n",
              "      <th>chlorides</th>\n",
              "      <th>free sulfur dioxide</th>\n",
              "      <th>total sulfur dioxide</th>\n",
              "      <th>density</th>\n",
              "      <th>pH</th>\n",
              "      <th>sulphates</th>\n",
              "      <th>alcohol</th>\n",
              "      <th>quality</th>\n",
              "    </tr>\n",
              "  </thead>\n",
              "  <tbody>\n",
              "    <tr>\n",
              "      <th>0</th>\n",
              "      <td>7.4</td>\n",
              "      <td>0.70</td>\n",
              "      <td>0.0</td>\n",
              "      <td>1.9</td>\n",
              "      <td>0.076</td>\n",
              "      <td>11.0</td>\n",
              "      <td>34.0</td>\n",
              "      <td>0.9978</td>\n",
              "      <td>3.51</td>\n",
              "      <td>0.56</td>\n",
              "      <td>9.4</td>\n",
              "      <td>5</td>\n",
              "    </tr>\n",
              "    <tr>\n",
              "      <th>1</th>\n",
              "      <td>7.8</td>\n",
              "      <td>0.88</td>\n",
              "      <td>0.0</td>\n",
              "      <td>2.6</td>\n",
              "      <td>0.098</td>\n",
              "      <td>25.0</td>\n",
              "      <td>67.0</td>\n",
              "      <td>0.9968</td>\n",
              "      <td>3.20</td>\n",
              "      <td>0.68</td>\n",
              "      <td>9.8</td>\n",
              "      <td>5</td>\n",
              "    </tr>\n",
              "  </tbody>\n",
              "</table>\n",
              "</div>\n",
              "      <button class=\"colab-df-convert\" onclick=\"convertToInteractive('df-5bbba822-0d85-4a7d-9008-ffbee1f228ea')\"\n",
              "              title=\"Convert this dataframe to an interactive table.\"\n",
              "              style=\"display:none;\">\n",
              "        \n",
              "  <svg xmlns=\"http://www.w3.org/2000/svg\" height=\"24px\"viewBox=\"0 0 24 24\"\n",
              "       width=\"24px\">\n",
              "    <path d=\"M0 0h24v24H0V0z\" fill=\"none\"/>\n",
              "    <path d=\"M18.56 5.44l.94 2.06.94-2.06 2.06-.94-2.06-.94-.94-2.06-.94 2.06-2.06.94zm-11 1L8.5 8.5l.94-2.06 2.06-.94-2.06-.94L8.5 2.5l-.94 2.06-2.06.94zm10 10l.94 2.06.94-2.06 2.06-.94-2.06-.94-.94-2.06-.94 2.06-2.06.94z\"/><path d=\"M17.41 7.96l-1.37-1.37c-.4-.4-.92-.59-1.43-.59-.52 0-1.04.2-1.43.59L10.3 9.45l-7.72 7.72c-.78.78-.78 2.05 0 2.83L4 21.41c.39.39.9.59 1.41.59.51 0 1.02-.2 1.41-.59l7.78-7.78 2.81-2.81c.8-.78.8-2.07 0-2.86zM5.41 20L4 18.59l7.72-7.72 1.47 1.35L5.41 20z\"/>\n",
              "  </svg>\n",
              "      </button>\n",
              "      \n",
              "  <style>\n",
              "    .colab-df-container {\n",
              "      display:flex;\n",
              "      flex-wrap:wrap;\n",
              "      gap: 12px;\n",
              "    }\n",
              "\n",
              "    .colab-df-convert {\n",
              "      background-color: #E8F0FE;\n",
              "      border: none;\n",
              "      border-radius: 50%;\n",
              "      cursor: pointer;\n",
              "      display: none;\n",
              "      fill: #1967D2;\n",
              "      height: 32px;\n",
              "      padding: 0 0 0 0;\n",
              "      width: 32px;\n",
              "    }\n",
              "\n",
              "    .colab-df-convert:hover {\n",
              "      background-color: #E2EBFA;\n",
              "      box-shadow: 0px 1px 2px rgba(60, 64, 67, 0.3), 0px 1px 3px 1px rgba(60, 64, 67, 0.15);\n",
              "      fill: #174EA6;\n",
              "    }\n",
              "\n",
              "    [theme=dark] .colab-df-convert {\n",
              "      background-color: #3B4455;\n",
              "      fill: #D2E3FC;\n",
              "    }\n",
              "\n",
              "    [theme=dark] .colab-df-convert:hover {\n",
              "      background-color: #434B5C;\n",
              "      box-shadow: 0px 1px 3px 1px rgba(0, 0, 0, 0.15);\n",
              "      filter: drop-shadow(0px 1px 2px rgba(0, 0, 0, 0.3));\n",
              "      fill: #FFFFFF;\n",
              "    }\n",
              "  </style>\n",
              "\n",
              "      <script>\n",
              "        const buttonEl =\n",
              "          document.querySelector('#df-5bbba822-0d85-4a7d-9008-ffbee1f228ea button.colab-df-convert');\n",
              "        buttonEl.style.display =\n",
              "          google.colab.kernel.accessAllowed ? 'block' : 'none';\n",
              "\n",
              "        async function convertToInteractive(key) {\n",
              "          const element = document.querySelector('#df-5bbba822-0d85-4a7d-9008-ffbee1f228ea');\n",
              "          const dataTable =\n",
              "            await google.colab.kernel.invokeFunction('convertToInteractive',\n",
              "                                                     [key], {});\n",
              "          if (!dataTable) return;\n",
              "\n",
              "          const docLinkHtml = 'Like what you see? Visit the ' +\n",
              "            '<a target=\"_blank\" href=https://colab.research.google.com/notebooks/data_table.ipynb>data table notebook</a>'\n",
              "            + ' to learn more about interactive tables.';\n",
              "          element.innerHTML = '';\n",
              "          dataTable['output_type'] = 'display_data';\n",
              "          await google.colab.output.renderOutput(dataTable, element);\n",
              "          const docLink = document.createElement('div');\n",
              "          docLink.innerHTML = docLinkHtml;\n",
              "          element.appendChild(docLink);\n",
              "        }\n",
              "      </script>\n",
              "    </div>\n",
              "  </div>\n",
              "  "
            ]
          },
          "metadata": {},
          "execution_count": 4
        }
      ]
    },
    {
      "cell_type": "code",
      "source": [
        "df.isna().sum()"
      ],
      "metadata": {
        "colab": {
          "base_uri": "https://localhost:8080/"
        },
        "id": "-qVKx58Ljdgo",
        "outputId": "8a00b48f-e89c-4d8c-8097-24441d00ba0d"
      },
      "execution_count": null,
      "outputs": [
        {
          "output_type": "execute_result",
          "data": {
            "text/plain": [
              "fixed acidity           0\n",
              "volatile acidity        0\n",
              "citric acid             0\n",
              "residual sugar          0\n",
              "chlorides               0\n",
              "free sulfur dioxide     0\n",
              "total sulfur dioxide    0\n",
              "density                 0\n",
              "pH                      0\n",
              "sulphates               0\n",
              "alcohol                 0\n",
              "quality                 0\n",
              "dtype: int64"
            ]
          },
          "metadata": {},
          "execution_count": 5
        }
      ]
    },
    {
      "cell_type": "code",
      "source": [
        "df.shape"
      ],
      "metadata": {
        "colab": {
          "base_uri": "https://localhost:8080/"
        },
        "id": "g-f6Zq7Mjf2M",
        "outputId": "714905a7-76cf-4595-ae37-f675aefbff3a"
      },
      "execution_count": null,
      "outputs": [
        {
          "output_type": "execute_result",
          "data": {
            "text/plain": [
              "(1599, 12)"
            ]
          },
          "metadata": {},
          "execution_count": 6
        }
      ]
    },
    {
      "cell_type": "code",
      "source": [
        "df.drop_duplicates(inplace=True)"
      ],
      "metadata": {
        "id": "7NEZfX-Sjg_Y"
      },
      "execution_count": null,
      "outputs": []
    },
    {
      "cell_type": "code",
      "source": [
        "df.shape"
      ],
      "metadata": {
        "colab": {
          "base_uri": "https://localhost:8080/"
        },
        "id": "rWM90YOxjjEG",
        "outputId": "338a6a2f-e06e-434e-a39b-744c351121eb"
      },
      "execution_count": null,
      "outputs": [
        {
          "output_type": "execute_result",
          "data": {
            "text/plain": [
              "(1359, 12)"
            ]
          },
          "metadata": {},
          "execution_count": 9
        }
      ]
    },
    {
      "cell_type": "code",
      "source": [
        "df.info()"
      ],
      "metadata": {
        "colab": {
          "base_uri": "https://localhost:8080/"
        },
        "id": "CnN8cPdgjnPy",
        "outputId": "6566dfaf-5eeb-4b3e-9057-aaf83ec81e7e"
      },
      "execution_count": null,
      "outputs": [
        {
          "output_type": "stream",
          "name": "stdout",
          "text": [
            "<class 'pandas.core.frame.DataFrame'>\n",
            "Int64Index: 1359 entries, 0 to 1598\n",
            "Data columns (total 12 columns):\n",
            " #   Column                Non-Null Count  Dtype  \n",
            "---  ------                --------------  -----  \n",
            " 0   fixed acidity         1359 non-null   float64\n",
            " 1   volatile acidity      1359 non-null   float64\n",
            " 2   citric acid           1359 non-null   float64\n",
            " 3   residual sugar        1359 non-null   float64\n",
            " 4   chlorides             1359 non-null   float64\n",
            " 5   free sulfur dioxide   1359 non-null   float64\n",
            " 6   total sulfur dioxide  1359 non-null   float64\n",
            " 7   density               1359 non-null   float64\n",
            " 8   pH                    1359 non-null   float64\n",
            " 9   sulphates             1359 non-null   float64\n",
            " 10  alcohol               1359 non-null   float64\n",
            " 11  quality               1359 non-null   int64  \n",
            "dtypes: float64(11), int64(1)\n",
            "memory usage: 138.0 KB\n"
          ]
        }
      ]
    },
    {
      "cell_type": "code",
      "source": [
        "df.describe()"
      ],
      "metadata": {
        "colab": {
          "base_uri": "https://localhost:8080/",
          "height": 399
        },
        "id": "244JzG59jp1i",
        "outputId": "a9fa0ee5-748f-4af9-b91b-1a060cd8d6d8"
      },
      "execution_count": null,
      "outputs": [
        {
          "output_type": "execute_result",
          "data": {
            "text/plain": [
              "       fixed acidity  volatile acidity  citric acid  residual sugar  \\\n",
              "count    1359.000000       1359.000000  1359.000000     1359.000000   \n",
              "mean        8.310596          0.529478     0.272333        2.523400   \n",
              "std         1.736990          0.183031     0.195537        1.352314   \n",
              "min         4.600000          0.120000     0.000000        0.900000   \n",
              "25%         7.100000          0.390000     0.090000        1.900000   \n",
              "50%         7.900000          0.520000     0.260000        2.200000   \n",
              "75%         9.200000          0.640000     0.430000        2.600000   \n",
              "max        15.900000          1.580000     1.000000       15.500000   \n",
              "\n",
              "         chlorides  free sulfur dioxide  total sulfur dioxide      density  \\\n",
              "count  1359.000000          1359.000000           1359.000000  1359.000000   \n",
              "mean      0.088124            15.893304             46.825975     0.996709   \n",
              "std       0.049377            10.447270             33.408946     0.001869   \n",
              "min       0.012000             1.000000              6.000000     0.990070   \n",
              "25%       0.070000             7.000000             22.000000     0.995600   \n",
              "50%       0.079000            14.000000             38.000000     0.996700   \n",
              "75%       0.091000            21.000000             63.000000     0.997820   \n",
              "max       0.611000            72.000000            289.000000     1.003690   \n",
              "\n",
              "                pH    sulphates      alcohol      quality  \n",
              "count  1359.000000  1359.000000  1359.000000  1359.000000  \n",
              "mean      3.309787     0.658705    10.432315     5.623252  \n",
              "std       0.155036     0.170667     1.082065     0.823578  \n",
              "min       2.740000     0.330000     8.400000     3.000000  \n",
              "25%       3.210000     0.550000     9.500000     5.000000  \n",
              "50%       3.310000     0.620000    10.200000     6.000000  \n",
              "75%       3.400000     0.730000    11.100000     6.000000  \n",
              "max       4.010000     2.000000    14.900000     8.000000  "
            ],
            "text/html": [
              "\n",
              "  <div id=\"df-3459094f-0633-4c64-a344-238ff77df5f7\">\n",
              "    <div class=\"colab-df-container\">\n",
              "      <div>\n",
              "<style scoped>\n",
              "    .dataframe tbody tr th:only-of-type {\n",
              "        vertical-align: middle;\n",
              "    }\n",
              "\n",
              "    .dataframe tbody tr th {\n",
              "        vertical-align: top;\n",
              "    }\n",
              "\n",
              "    .dataframe thead th {\n",
              "        text-align: right;\n",
              "    }\n",
              "</style>\n",
              "<table border=\"1\" class=\"dataframe\">\n",
              "  <thead>\n",
              "    <tr style=\"text-align: right;\">\n",
              "      <th></th>\n",
              "      <th>fixed acidity</th>\n",
              "      <th>volatile acidity</th>\n",
              "      <th>citric acid</th>\n",
              "      <th>residual sugar</th>\n",
              "      <th>chlorides</th>\n",
              "      <th>free sulfur dioxide</th>\n",
              "      <th>total sulfur dioxide</th>\n",
              "      <th>density</th>\n",
              "      <th>pH</th>\n",
              "      <th>sulphates</th>\n",
              "      <th>alcohol</th>\n",
              "      <th>quality</th>\n",
              "    </tr>\n",
              "  </thead>\n",
              "  <tbody>\n",
              "    <tr>\n",
              "      <th>count</th>\n",
              "      <td>1359.000000</td>\n",
              "      <td>1359.000000</td>\n",
              "      <td>1359.000000</td>\n",
              "      <td>1359.000000</td>\n",
              "      <td>1359.000000</td>\n",
              "      <td>1359.000000</td>\n",
              "      <td>1359.000000</td>\n",
              "      <td>1359.000000</td>\n",
              "      <td>1359.000000</td>\n",
              "      <td>1359.000000</td>\n",
              "      <td>1359.000000</td>\n",
              "      <td>1359.000000</td>\n",
              "    </tr>\n",
              "    <tr>\n",
              "      <th>mean</th>\n",
              "      <td>8.310596</td>\n",
              "      <td>0.529478</td>\n",
              "      <td>0.272333</td>\n",
              "      <td>2.523400</td>\n",
              "      <td>0.088124</td>\n",
              "      <td>15.893304</td>\n",
              "      <td>46.825975</td>\n",
              "      <td>0.996709</td>\n",
              "      <td>3.309787</td>\n",
              "      <td>0.658705</td>\n",
              "      <td>10.432315</td>\n",
              "      <td>5.623252</td>\n",
              "    </tr>\n",
              "    <tr>\n",
              "      <th>std</th>\n",
              "      <td>1.736990</td>\n",
              "      <td>0.183031</td>\n",
              "      <td>0.195537</td>\n",
              "      <td>1.352314</td>\n",
              "      <td>0.049377</td>\n",
              "      <td>10.447270</td>\n",
              "      <td>33.408946</td>\n",
              "      <td>0.001869</td>\n",
              "      <td>0.155036</td>\n",
              "      <td>0.170667</td>\n",
              "      <td>1.082065</td>\n",
              "      <td>0.823578</td>\n",
              "    </tr>\n",
              "    <tr>\n",
              "      <th>min</th>\n",
              "      <td>4.600000</td>\n",
              "      <td>0.120000</td>\n",
              "      <td>0.000000</td>\n",
              "      <td>0.900000</td>\n",
              "      <td>0.012000</td>\n",
              "      <td>1.000000</td>\n",
              "      <td>6.000000</td>\n",
              "      <td>0.990070</td>\n",
              "      <td>2.740000</td>\n",
              "      <td>0.330000</td>\n",
              "      <td>8.400000</td>\n",
              "      <td>3.000000</td>\n",
              "    </tr>\n",
              "    <tr>\n",
              "      <th>25%</th>\n",
              "      <td>7.100000</td>\n",
              "      <td>0.390000</td>\n",
              "      <td>0.090000</td>\n",
              "      <td>1.900000</td>\n",
              "      <td>0.070000</td>\n",
              "      <td>7.000000</td>\n",
              "      <td>22.000000</td>\n",
              "      <td>0.995600</td>\n",
              "      <td>3.210000</td>\n",
              "      <td>0.550000</td>\n",
              "      <td>9.500000</td>\n",
              "      <td>5.000000</td>\n",
              "    </tr>\n",
              "    <tr>\n",
              "      <th>50%</th>\n",
              "      <td>7.900000</td>\n",
              "      <td>0.520000</td>\n",
              "      <td>0.260000</td>\n",
              "      <td>2.200000</td>\n",
              "      <td>0.079000</td>\n",
              "      <td>14.000000</td>\n",
              "      <td>38.000000</td>\n",
              "      <td>0.996700</td>\n",
              "      <td>3.310000</td>\n",
              "      <td>0.620000</td>\n",
              "      <td>10.200000</td>\n",
              "      <td>6.000000</td>\n",
              "    </tr>\n",
              "    <tr>\n",
              "      <th>75%</th>\n",
              "      <td>9.200000</td>\n",
              "      <td>0.640000</td>\n",
              "      <td>0.430000</td>\n",
              "      <td>2.600000</td>\n",
              "      <td>0.091000</td>\n",
              "      <td>21.000000</td>\n",
              "      <td>63.000000</td>\n",
              "      <td>0.997820</td>\n",
              "      <td>3.400000</td>\n",
              "      <td>0.730000</td>\n",
              "      <td>11.100000</td>\n",
              "      <td>6.000000</td>\n",
              "    </tr>\n",
              "    <tr>\n",
              "      <th>max</th>\n",
              "      <td>15.900000</td>\n",
              "      <td>1.580000</td>\n",
              "      <td>1.000000</td>\n",
              "      <td>15.500000</td>\n",
              "      <td>0.611000</td>\n",
              "      <td>72.000000</td>\n",
              "      <td>289.000000</td>\n",
              "      <td>1.003690</td>\n",
              "      <td>4.010000</td>\n",
              "      <td>2.000000</td>\n",
              "      <td>14.900000</td>\n",
              "      <td>8.000000</td>\n",
              "    </tr>\n",
              "  </tbody>\n",
              "</table>\n",
              "</div>\n",
              "      <button class=\"colab-df-convert\" onclick=\"convertToInteractive('df-3459094f-0633-4c64-a344-238ff77df5f7')\"\n",
              "              title=\"Convert this dataframe to an interactive table.\"\n",
              "              style=\"display:none;\">\n",
              "        \n",
              "  <svg xmlns=\"http://www.w3.org/2000/svg\" height=\"24px\"viewBox=\"0 0 24 24\"\n",
              "       width=\"24px\">\n",
              "    <path d=\"M0 0h24v24H0V0z\" fill=\"none\"/>\n",
              "    <path d=\"M18.56 5.44l.94 2.06.94-2.06 2.06-.94-2.06-.94-.94-2.06-.94 2.06-2.06.94zm-11 1L8.5 8.5l.94-2.06 2.06-.94-2.06-.94L8.5 2.5l-.94 2.06-2.06.94zm10 10l.94 2.06.94-2.06 2.06-.94-2.06-.94-.94-2.06-.94 2.06-2.06.94z\"/><path d=\"M17.41 7.96l-1.37-1.37c-.4-.4-.92-.59-1.43-.59-.52 0-1.04.2-1.43.59L10.3 9.45l-7.72 7.72c-.78.78-.78 2.05 0 2.83L4 21.41c.39.39.9.59 1.41.59.51 0 1.02-.2 1.41-.59l7.78-7.78 2.81-2.81c.8-.78.8-2.07 0-2.86zM5.41 20L4 18.59l7.72-7.72 1.47 1.35L5.41 20z\"/>\n",
              "  </svg>\n",
              "      </button>\n",
              "      \n",
              "  <style>\n",
              "    .colab-df-container {\n",
              "      display:flex;\n",
              "      flex-wrap:wrap;\n",
              "      gap: 12px;\n",
              "    }\n",
              "\n",
              "    .colab-df-convert {\n",
              "      background-color: #E8F0FE;\n",
              "      border: none;\n",
              "      border-radius: 50%;\n",
              "      cursor: pointer;\n",
              "      display: none;\n",
              "      fill: #1967D2;\n",
              "      height: 32px;\n",
              "      padding: 0 0 0 0;\n",
              "      width: 32px;\n",
              "    }\n",
              "\n",
              "    .colab-df-convert:hover {\n",
              "      background-color: #E2EBFA;\n",
              "      box-shadow: 0px 1px 2px rgba(60, 64, 67, 0.3), 0px 1px 3px 1px rgba(60, 64, 67, 0.15);\n",
              "      fill: #174EA6;\n",
              "    }\n",
              "\n",
              "    [theme=dark] .colab-df-convert {\n",
              "      background-color: #3B4455;\n",
              "      fill: #D2E3FC;\n",
              "    }\n",
              "\n",
              "    [theme=dark] .colab-df-convert:hover {\n",
              "      background-color: #434B5C;\n",
              "      box-shadow: 0px 1px 3px 1px rgba(0, 0, 0, 0.15);\n",
              "      filter: drop-shadow(0px 1px 2px rgba(0, 0, 0, 0.3));\n",
              "      fill: #FFFFFF;\n",
              "    }\n",
              "  </style>\n",
              "\n",
              "      <script>\n",
              "        const buttonEl =\n",
              "          document.querySelector('#df-3459094f-0633-4c64-a344-238ff77df5f7 button.colab-df-convert');\n",
              "        buttonEl.style.display =\n",
              "          google.colab.kernel.accessAllowed ? 'block' : 'none';\n",
              "\n",
              "        async function convertToInteractive(key) {\n",
              "          const element = document.querySelector('#df-3459094f-0633-4c64-a344-238ff77df5f7');\n",
              "          const dataTable =\n",
              "            await google.colab.kernel.invokeFunction('convertToInteractive',\n",
              "                                                     [key], {});\n",
              "          if (!dataTable) return;\n",
              "\n",
              "          const docLinkHtml = 'Like what you see? Visit the ' +\n",
              "            '<a target=\"_blank\" href=https://colab.research.google.com/notebooks/data_table.ipynb>data table notebook</a>'\n",
              "            + ' to learn more about interactive tables.';\n",
              "          element.innerHTML = '';\n",
              "          dataTable['output_type'] = 'display_data';\n",
              "          await google.colab.output.renderOutput(dataTable, element);\n",
              "          const docLink = document.createElement('div');\n",
              "          docLink.innerHTML = docLinkHtml;\n",
              "          element.appendChild(docLink);\n",
              "        }\n",
              "      </script>\n",
              "    </div>\n",
              "  </div>\n",
              "  "
            ]
          },
          "metadata": {},
          "execution_count": 13
        }
      ]
    },
    {
      "cell_type": "code",
      "source": [
        "from sklearn.preprocessing import LabelEncoder"
      ],
      "metadata": {
        "id": "NWj1Z5bkjuCq"
      },
      "execution_count": null,
      "outputs": []
    },
    {
      "cell_type": "code",
      "source": [
        "encoder = LabelEncoder()\n",
        "x = encoder.fit_transform(df[\"quality\"])"
      ],
      "metadata": {
        "id": "L9_WWMbsj7yR"
      },
      "execution_count": null,
      "outputs": []
    },
    {
      "cell_type": "code",
      "source": [
        "df[\"quality\"] = x"
      ],
      "metadata": {
        "id": "p-JAaiGkkE82"
      },
      "execution_count": null,
      "outputs": []
    },
    {
      "cell_type": "code",
      "source": [
        "df[\"quality\"].unique()"
      ],
      "metadata": {
        "colab": {
          "base_uri": "https://localhost:8080/"
        },
        "id": "IK4mE9PfkF0F",
        "outputId": "de163156-5cee-4479-debf-279a03e83e85"
      },
      "execution_count": null,
      "outputs": [
        {
          "output_type": "execute_result",
          "data": {
            "text/plain": [
              "array([2, 3, 4, 1, 5, 0])"
            ]
          },
          "metadata": {},
          "execution_count": 19
        }
      ]
    },
    {
      "cell_type": "code",
      "source": [
        "from sklearn.preprocessing import StandardScaler\n",
        "scaler = StandardScaler()"
      ],
      "metadata": {
        "id": "Xy3izxUHkPO4"
      },
      "execution_count": null,
      "outputs": []
    },
    {
      "cell_type": "code",
      "source": [
        "X = scaler.fit_transform(df.drop([\"quality\"], axis=1))"
      ],
      "metadata": {
        "id": "VkSPnrBNkVnG"
      },
      "execution_count": null,
      "outputs": []
    },
    {
      "cell_type": "code",
      "source": [
        "Y = df[\"quality\"]"
      ],
      "metadata": {
        "id": "1ZCH0A9akde2"
      },
      "execution_count": null,
      "outputs": []
    },
    {
      "cell_type": "code",
      "source": [
        "from sklearn.model_selection import train_test_split\n",
        "\n",
        "x_train, x_test, y_train, y_test = train_test_split(X, Y, random_state=4, test_size=0.2)"
      ],
      "metadata": {
        "id": "da2SEaRpkh-f"
      },
      "execution_count": null,
      "outputs": []
    },
    {
      "cell_type": "code",
      "source": [
        "import tensorflow as tf\n",
        "import keras"
      ],
      "metadata": {
        "id": "4o2pKtTCkkbK"
      },
      "execution_count": null,
      "outputs": []
    },
    {
      "cell_type": "code",
      "source": [
        "from keras.models import Sequential\n",
        "from keras.layers import Dense"
      ],
      "metadata": {
        "id": "B-wydawLkrWv"
      },
      "execution_count": null,
      "outputs": []
    },
    {
      "cell_type": "code",
      "source": [
        "ann = Sequential()\n",
        "\n",
        "ann.add(Dense(units = 11, activation=\"relu\"))\n",
        "ann.add(Dense(units = 9, activation=\"relu\"))\n",
        "ann.add(Dense(units= 7 , activation=\"relu\"))\n",
        "ann.add(Dense(units = 6, activation=\"softmax\"))"
      ],
      "metadata": {
        "id": "q4zDQFenksBW"
      },
      "execution_count": null,
      "outputs": []
    },
    {
      "cell_type": "code",
      "source": [
        "opt = tf.keras.optimizers.Adam()\n",
        "loss = tf.keras.losses.SparseCategoricalCrossentropy()"
      ],
      "metadata": {
        "id": "ynShFZIYk2uv"
      },
      "execution_count": null,
      "outputs": []
    },
    {
      "cell_type": "code",
      "source": [
        "ann.compile(optimizer = opt, loss = loss, metrics=[\"accuracy\"])"
      ],
      "metadata": {
        "id": "na84QM1nlE_K"
      },
      "execution_count": null,
      "outputs": []
    },
    {
      "cell_type": "code",
      "source": [
        "ann.fit(x_train, y_train, batch_size=32, epochs=100, validation_data=(x_test, y_test))"
      ],
      "metadata": {
        "colab": {
          "base_uri": "https://localhost:8080/"
        },
        "id": "WdOV4_8hlHFe",
        "outputId": "cfefe477-2eec-4895-8711-d1fbccefe449"
      },
      "execution_count": null,
      "outputs": [
        {
          "output_type": "stream",
          "name": "stdout",
          "text": [
            "Epoch 1/100\n",
            "34/34 [==============================] - 1s 9ms/step - loss: 0.7097 - accuracy: 0.6826 - val_loss: 1.3935 - val_accuracy: 0.5735\n",
            "Epoch 2/100\n",
            "34/34 [==============================] - 0s 5ms/step - loss: 0.7040 - accuracy: 0.6872 - val_loss: 1.3819 - val_accuracy: 0.5882\n",
            "Epoch 3/100\n",
            "34/34 [==============================] - 0s 5ms/step - loss: 0.7049 - accuracy: 0.6881 - val_loss: 1.3883 - val_accuracy: 0.5919\n",
            "Epoch 4/100\n",
            "34/34 [==============================] - 0s 5ms/step - loss: 0.7034 - accuracy: 0.6891 - val_loss: 1.3969 - val_accuracy: 0.5846\n",
            "Epoch 5/100\n",
            "34/34 [==============================] - 0s 4ms/step - loss: 0.7053 - accuracy: 0.6826 - val_loss: 1.3773 - val_accuracy: 0.5882\n",
            "Epoch 6/100\n",
            "34/34 [==============================] - 0s 6ms/step - loss: 0.7043 - accuracy: 0.6863 - val_loss: 1.3871 - val_accuracy: 0.5772\n",
            "Epoch 7/100\n",
            "34/34 [==============================] - 0s 5ms/step - loss: 0.7051 - accuracy: 0.6927 - val_loss: 1.3716 - val_accuracy: 0.5882\n",
            "Epoch 8/100\n",
            "34/34 [==============================] - 0s 4ms/step - loss: 0.7037 - accuracy: 0.6891 - val_loss: 1.4080 - val_accuracy: 0.5772\n",
            "Epoch 9/100\n",
            "34/34 [==============================] - 0s 4ms/step - loss: 0.7050 - accuracy: 0.6817 - val_loss: 1.3745 - val_accuracy: 0.5919\n",
            "Epoch 10/100\n",
            "34/34 [==============================] - 0s 4ms/step - loss: 0.7025 - accuracy: 0.6789 - val_loss: 1.3860 - val_accuracy: 0.5809\n",
            "Epoch 11/100\n",
            "34/34 [==============================] - 0s 5ms/step - loss: 0.7042 - accuracy: 0.6854 - val_loss: 1.3908 - val_accuracy: 0.5662\n",
            "Epoch 12/100\n",
            "34/34 [==============================] - 0s 4ms/step - loss: 0.7036 - accuracy: 0.6872 - val_loss: 1.3986 - val_accuracy: 0.5882\n",
            "Epoch 13/100\n",
            "34/34 [==============================] - 0s 4ms/step - loss: 0.7027 - accuracy: 0.6872 - val_loss: 1.3832 - val_accuracy: 0.5735\n",
            "Epoch 14/100\n",
            "34/34 [==============================] - 0s 5ms/step - loss: 0.7025 - accuracy: 0.6872 - val_loss: 1.3830 - val_accuracy: 0.5772\n",
            "Epoch 15/100\n",
            "34/34 [==============================] - 0s 6ms/step - loss: 0.7057 - accuracy: 0.6817 - val_loss: 1.3845 - val_accuracy: 0.5882\n",
            "Epoch 16/100\n",
            "34/34 [==============================] - 0s 6ms/step - loss: 0.7026 - accuracy: 0.6900 - val_loss: 1.3869 - val_accuracy: 0.5882\n",
            "Epoch 17/100\n",
            "34/34 [==============================] - 0s 5ms/step - loss: 0.7029 - accuracy: 0.6826 - val_loss: 1.3948 - val_accuracy: 0.5919\n",
            "Epoch 18/100\n",
            "34/34 [==============================] - 0s 5ms/step - loss: 0.7020 - accuracy: 0.6900 - val_loss: 1.3876 - val_accuracy: 0.5882\n",
            "Epoch 19/100\n",
            "34/34 [==============================] - 0s 4ms/step - loss: 0.7021 - accuracy: 0.6863 - val_loss: 1.3922 - val_accuracy: 0.5919\n",
            "Epoch 20/100\n",
            "34/34 [==============================] - 0s 4ms/step - loss: 0.7023 - accuracy: 0.6872 - val_loss: 1.3948 - val_accuracy: 0.5809\n",
            "Epoch 21/100\n",
            "34/34 [==============================] - 0s 3ms/step - loss: 0.7017 - accuracy: 0.6900 - val_loss: 1.3872 - val_accuracy: 0.5919\n",
            "Epoch 22/100\n",
            "34/34 [==============================] - 0s 3ms/step - loss: 0.7002 - accuracy: 0.6872 - val_loss: 1.4243 - val_accuracy: 0.5699\n",
            "Epoch 23/100\n",
            "34/34 [==============================] - 0s 3ms/step - loss: 0.7030 - accuracy: 0.6891 - val_loss: 1.3742 - val_accuracy: 0.5956\n",
            "Epoch 24/100\n",
            "34/34 [==============================] - 0s 3ms/step - loss: 0.7024 - accuracy: 0.6946 - val_loss: 1.3993 - val_accuracy: 0.5772\n",
            "Epoch 25/100\n",
            "34/34 [==============================] - 0s 3ms/step - loss: 0.7013 - accuracy: 0.6881 - val_loss: 1.3963 - val_accuracy: 0.5846\n",
            "Epoch 26/100\n",
            "34/34 [==============================] - 0s 3ms/step - loss: 0.7009 - accuracy: 0.6881 - val_loss: 1.3947 - val_accuracy: 0.5772\n",
            "Epoch 27/100\n",
            "34/34 [==============================] - 0s 5ms/step - loss: 0.7036 - accuracy: 0.6881 - val_loss: 1.4120 - val_accuracy: 0.5882\n",
            "Epoch 28/100\n",
            "34/34 [==============================] - 0s 4ms/step - loss: 0.7020 - accuracy: 0.6891 - val_loss: 1.4030 - val_accuracy: 0.5956\n",
            "Epoch 29/100\n",
            "34/34 [==============================] - 0s 3ms/step - loss: 0.7003 - accuracy: 0.6854 - val_loss: 1.3860 - val_accuracy: 0.5809\n",
            "Epoch 30/100\n",
            "34/34 [==============================] - 0s 3ms/step - loss: 0.7004 - accuracy: 0.6983 - val_loss: 1.3984 - val_accuracy: 0.5846\n",
            "Epoch 31/100\n",
            "34/34 [==============================] - 0s 4ms/step - loss: 0.7012 - accuracy: 0.6854 - val_loss: 1.4050 - val_accuracy: 0.5846\n",
            "Epoch 32/100\n",
            "34/34 [==============================] - 0s 4ms/step - loss: 0.7019 - accuracy: 0.6909 - val_loss: 1.3990 - val_accuracy: 0.5993\n",
            "Epoch 33/100\n",
            "34/34 [==============================] - 0s 3ms/step - loss: 0.6989 - accuracy: 0.6909 - val_loss: 1.4176 - val_accuracy: 0.5735\n",
            "Epoch 34/100\n",
            "34/34 [==============================] - 0s 4ms/step - loss: 0.7020 - accuracy: 0.6854 - val_loss: 1.3877 - val_accuracy: 0.5919\n",
            "Epoch 35/100\n",
            "34/34 [==============================] - 0s 3ms/step - loss: 0.7027 - accuracy: 0.6891 - val_loss: 1.3837 - val_accuracy: 0.5919\n",
            "Epoch 36/100\n",
            "34/34 [==============================] - 0s 3ms/step - loss: 0.7003 - accuracy: 0.6909 - val_loss: 1.4122 - val_accuracy: 0.5809\n",
            "Epoch 37/100\n",
            "34/34 [==============================] - 0s 4ms/step - loss: 0.6986 - accuracy: 0.6927 - val_loss: 1.4020 - val_accuracy: 0.5882\n",
            "Epoch 38/100\n",
            "34/34 [==============================] - 0s 3ms/step - loss: 0.6981 - accuracy: 0.6918 - val_loss: 1.4130 - val_accuracy: 0.5919\n",
            "Epoch 39/100\n",
            "34/34 [==============================] - 0s 4ms/step - loss: 0.6978 - accuracy: 0.6900 - val_loss: 1.4139 - val_accuracy: 0.5882\n",
            "Epoch 40/100\n",
            "34/34 [==============================] - 0s 3ms/step - loss: 0.6983 - accuracy: 0.6927 - val_loss: 1.4057 - val_accuracy: 0.5956\n",
            "Epoch 41/100\n",
            "34/34 [==============================] - 0s 4ms/step - loss: 0.6985 - accuracy: 0.6863 - val_loss: 1.3979 - val_accuracy: 0.5993\n",
            "Epoch 42/100\n",
            "34/34 [==============================] - 0s 3ms/step - loss: 0.6988 - accuracy: 0.6891 - val_loss: 1.3949 - val_accuracy: 0.5956\n",
            "Epoch 43/100\n",
            "34/34 [==============================] - 0s 4ms/step - loss: 0.6970 - accuracy: 0.6918 - val_loss: 1.3914 - val_accuracy: 0.5846\n",
            "Epoch 44/100\n",
            "34/34 [==============================] - 0s 3ms/step - loss: 0.6978 - accuracy: 0.6937 - val_loss: 1.4130 - val_accuracy: 0.5846\n",
            "Epoch 45/100\n",
            "34/34 [==============================] - 0s 3ms/step - loss: 0.6981 - accuracy: 0.6927 - val_loss: 1.3936 - val_accuracy: 0.6066\n",
            "Epoch 46/100\n",
            "34/34 [==============================] - 0s 4ms/step - loss: 0.6967 - accuracy: 0.6891 - val_loss: 1.4171 - val_accuracy: 0.6029\n",
            "Epoch 47/100\n",
            "34/34 [==============================] - 0s 4ms/step - loss: 0.7009 - accuracy: 0.6854 - val_loss: 1.4120 - val_accuracy: 0.5919\n",
            "Epoch 48/100\n",
            "34/34 [==============================] - 0s 3ms/step - loss: 0.6972 - accuracy: 0.6927 - val_loss: 1.4060 - val_accuracy: 0.5993\n",
            "Epoch 49/100\n",
            "34/34 [==============================] - 0s 3ms/step - loss: 0.6973 - accuracy: 0.6863 - val_loss: 1.4231 - val_accuracy: 0.5956\n",
            "Epoch 50/100\n",
            "34/34 [==============================] - 0s 3ms/step - loss: 0.7009 - accuracy: 0.6854 - val_loss: 1.4297 - val_accuracy: 0.5846\n",
            "Epoch 51/100\n",
            "34/34 [==============================] - 0s 4ms/step - loss: 0.6985 - accuracy: 0.6900 - val_loss: 1.4017 - val_accuracy: 0.5882\n",
            "Epoch 52/100\n",
            "34/34 [==============================] - 0s 4ms/step - loss: 0.6963 - accuracy: 0.6909 - val_loss: 1.4243 - val_accuracy: 0.5809\n",
            "Epoch 53/100\n",
            "34/34 [==============================] - 0s 3ms/step - loss: 0.6978 - accuracy: 0.6863 - val_loss: 1.3992 - val_accuracy: 0.6066\n",
            "Epoch 54/100\n",
            "34/34 [==============================] - 0s 3ms/step - loss: 0.6977 - accuracy: 0.6835 - val_loss: 1.4160 - val_accuracy: 0.5956\n",
            "Epoch 55/100\n",
            "34/34 [==============================] - 0s 3ms/step - loss: 0.6966 - accuracy: 0.6992 - val_loss: 1.4038 - val_accuracy: 0.6029\n",
            "Epoch 56/100\n",
            "34/34 [==============================] - 0s 3ms/step - loss: 0.6994 - accuracy: 0.6835 - val_loss: 1.4011 - val_accuracy: 0.5956\n",
            "Epoch 57/100\n",
            "34/34 [==============================] - 0s 4ms/step - loss: 0.6971 - accuracy: 0.6891 - val_loss: 1.4081 - val_accuracy: 0.5919\n",
            "Epoch 58/100\n",
            "34/34 [==============================] - 0s 3ms/step - loss: 0.6976 - accuracy: 0.6946 - val_loss: 1.4182 - val_accuracy: 0.6066\n",
            "Epoch 59/100\n",
            "34/34 [==============================] - 0s 3ms/step - loss: 0.6967 - accuracy: 0.6863 - val_loss: 1.4099 - val_accuracy: 0.5882\n",
            "Epoch 60/100\n",
            "34/34 [==============================] - 0s 3ms/step - loss: 0.6962 - accuracy: 0.6891 - val_loss: 1.4084 - val_accuracy: 0.6029\n",
            "Epoch 61/100\n",
            "34/34 [==============================] - 0s 3ms/step - loss: 0.6959 - accuracy: 0.6872 - val_loss: 1.4331 - val_accuracy: 0.5882\n",
            "Epoch 62/100\n",
            "34/34 [==============================] - 0s 3ms/step - loss: 0.6958 - accuracy: 0.6872 - val_loss: 1.4148 - val_accuracy: 0.5809\n",
            "Epoch 63/100\n",
            "34/34 [==============================] - 0s 3ms/step - loss: 0.6955 - accuracy: 0.6845 - val_loss: 1.4170 - val_accuracy: 0.6029\n",
            "Epoch 64/100\n",
            "34/34 [==============================] - 0s 4ms/step - loss: 0.6952 - accuracy: 0.6946 - val_loss: 1.4335 - val_accuracy: 0.5882\n",
            "Epoch 65/100\n",
            "34/34 [==============================] - 0s 3ms/step - loss: 0.6963 - accuracy: 0.6909 - val_loss: 1.4224 - val_accuracy: 0.5846\n",
            "Epoch 66/100\n",
            "34/34 [==============================] - 0s 3ms/step - loss: 0.6952 - accuracy: 0.6909 - val_loss: 1.4168 - val_accuracy: 0.5919\n",
            "Epoch 67/100\n",
            "34/34 [==============================] - 0s 3ms/step - loss: 0.6931 - accuracy: 0.6909 - val_loss: 1.4394 - val_accuracy: 0.5956\n",
            "Epoch 68/100\n",
            "34/34 [==============================] - 0s 4ms/step - loss: 0.6942 - accuracy: 0.6881 - val_loss: 1.4304 - val_accuracy: 0.5919\n",
            "Epoch 69/100\n",
            "34/34 [==============================] - 0s 4ms/step - loss: 0.6946 - accuracy: 0.6863 - val_loss: 1.4331 - val_accuracy: 0.5993\n",
            "Epoch 70/100\n",
            "34/34 [==============================] - 0s 3ms/step - loss: 0.6935 - accuracy: 0.6927 - val_loss: 1.4221 - val_accuracy: 0.6029\n",
            "Epoch 71/100\n",
            "34/34 [==============================] - 0s 4ms/step - loss: 0.6935 - accuracy: 0.6937 - val_loss: 1.4167 - val_accuracy: 0.5993\n",
            "Epoch 72/100\n",
            "34/34 [==============================] - 0s 4ms/step - loss: 0.6953 - accuracy: 0.6881 - val_loss: 1.4451 - val_accuracy: 0.5956\n",
            "Epoch 73/100\n",
            "34/34 [==============================] - 0s 3ms/step - loss: 0.6991 - accuracy: 0.6955 - val_loss: 1.4389 - val_accuracy: 0.5919\n",
            "Epoch 74/100\n",
            "34/34 [==============================] - 0s 3ms/step - loss: 0.6997 - accuracy: 0.6891 - val_loss: 1.4246 - val_accuracy: 0.5993\n",
            "Epoch 75/100\n",
            "34/34 [==============================] - 0s 3ms/step - loss: 0.6947 - accuracy: 0.6881 - val_loss: 1.4585 - val_accuracy: 0.5772\n",
            "Epoch 76/100\n",
            "34/34 [==============================] - 0s 3ms/step - loss: 0.6945 - accuracy: 0.6863 - val_loss: 1.4325 - val_accuracy: 0.5919\n",
            "Epoch 77/100\n",
            "34/34 [==============================] - 0s 4ms/step - loss: 0.6938 - accuracy: 0.6854 - val_loss: 1.4396 - val_accuracy: 0.6029\n",
            "Epoch 78/100\n",
            "34/34 [==============================] - 0s 3ms/step - loss: 0.6949 - accuracy: 0.6973 - val_loss: 1.4512 - val_accuracy: 0.5919\n",
            "Epoch 79/100\n",
            "34/34 [==============================] - 0s 4ms/step - loss: 0.6928 - accuracy: 0.6927 - val_loss: 1.4434 - val_accuracy: 0.5882\n",
            "Epoch 80/100\n",
            "34/34 [==============================] - 0s 3ms/step - loss: 0.6923 - accuracy: 0.6927 - val_loss: 1.4232 - val_accuracy: 0.5882\n",
            "Epoch 81/100\n",
            "34/34 [==============================] - 0s 3ms/step - loss: 0.6930 - accuracy: 0.6854 - val_loss: 1.4235 - val_accuracy: 0.5993\n",
            "Epoch 82/100\n",
            "34/34 [==============================] - 0s 3ms/step - loss: 0.6945 - accuracy: 0.6845 - val_loss: 1.4423 - val_accuracy: 0.6066\n",
            "Epoch 83/100\n",
            "34/34 [==============================] - 0s 3ms/step - loss: 0.6925 - accuracy: 0.6872 - val_loss: 1.4189 - val_accuracy: 0.5919\n",
            "Epoch 84/100\n",
            "34/34 [==============================] - 0s 3ms/step - loss: 0.6976 - accuracy: 0.6826 - val_loss: 1.4397 - val_accuracy: 0.5956\n",
            "Epoch 85/100\n",
            "34/34 [==============================] - 0s 3ms/step - loss: 0.6919 - accuracy: 0.6927 - val_loss: 1.4548 - val_accuracy: 0.5956\n",
            "Epoch 86/100\n",
            "34/34 [==============================] - 0s 4ms/step - loss: 0.6928 - accuracy: 0.6918 - val_loss: 1.4533 - val_accuracy: 0.5919\n",
            "Epoch 87/100\n",
            "34/34 [==============================] - 0s 3ms/step - loss: 0.6938 - accuracy: 0.6872 - val_loss: 1.4565 - val_accuracy: 0.5993\n",
            "Epoch 88/100\n",
            "34/34 [==============================] - 0s 3ms/step - loss: 0.6928 - accuracy: 0.6909 - val_loss: 1.4381 - val_accuracy: 0.5809\n",
            "Epoch 89/100\n",
            "34/34 [==============================] - 0s 3ms/step - loss: 0.6942 - accuracy: 0.6872 - val_loss: 1.4522 - val_accuracy: 0.6066\n",
            "Epoch 90/100\n",
            "34/34 [==============================] - 0s 4ms/step - loss: 0.6901 - accuracy: 0.6918 - val_loss: 1.4339 - val_accuracy: 0.5846\n",
            "Epoch 91/100\n",
            "34/34 [==============================] - 0s 3ms/step - loss: 0.6931 - accuracy: 0.6918 - val_loss: 1.4356 - val_accuracy: 0.6066\n",
            "Epoch 92/100\n",
            "34/34 [==============================] - 0s 3ms/step - loss: 0.6908 - accuracy: 0.6909 - val_loss: 1.4446 - val_accuracy: 0.5993\n",
            "Epoch 93/100\n",
            "34/34 [==============================] - 0s 4ms/step - loss: 0.6927 - accuracy: 0.6900 - val_loss: 1.4550 - val_accuracy: 0.5919\n",
            "Epoch 94/100\n",
            "34/34 [==============================] - 0s 3ms/step - loss: 0.6916 - accuracy: 0.6854 - val_loss: 1.4336 - val_accuracy: 0.5882\n",
            "Epoch 95/100\n",
            "34/34 [==============================] - 0s 3ms/step - loss: 0.6916 - accuracy: 0.6927 - val_loss: 1.4613 - val_accuracy: 0.5956\n",
            "Epoch 96/100\n",
            "34/34 [==============================] - 0s 3ms/step - loss: 0.6910 - accuracy: 0.6964 - val_loss: 1.4359 - val_accuracy: 0.5956\n",
            "Epoch 97/100\n",
            "34/34 [==============================] - 0s 3ms/step - loss: 0.6933 - accuracy: 0.6872 - val_loss: 1.4397 - val_accuracy: 0.5956\n",
            "Epoch 98/100\n",
            "34/34 [==============================] - 0s 5ms/step - loss: 0.6941 - accuracy: 0.6909 - val_loss: 1.4592 - val_accuracy: 0.5919\n",
            "Epoch 99/100\n",
            "34/34 [==============================] - 0s 5ms/step - loss: 0.6919 - accuracy: 0.6909 - val_loss: 1.4481 - val_accuracy: 0.6029\n",
            "Epoch 100/100\n",
            "34/34 [==============================] - 0s 5ms/step - loss: 0.6894 - accuracy: 0.6964 - val_loss: 1.4409 - val_accuracy: 0.5956\n"
          ]
        },
        {
          "output_type": "execute_result",
          "data": {
            "text/plain": [
              "<keras.callbacks.History at 0x7f43c66ac2b0>"
            ]
          },
          "metadata": {},
          "execution_count": 41
        }
      ]
    },
    {
      "cell_type": "code",
      "source": [
        "y_pred = ann.predict(x_test)"
      ],
      "metadata": {
        "colab": {
          "base_uri": "https://localhost:8080/"
        },
        "id": "B8rFJBG2lLoi",
        "outputId": "eb94f437-2934-40cf-b0a7-696fe77bc64e"
      },
      "execution_count": null,
      "outputs": [
        {
          "output_type": "stream",
          "name": "stdout",
          "text": [
            "9/9 [==============================] - 0s 2ms/step\n"
          ]
        }
      ]
    },
    {
      "cell_type": "code",
      "source": [
        "ann.evaluate(x_test, y_test)"
      ],
      "metadata": {
        "id": "v6g3OKNymXLY",
        "outputId": "18711c04-5cd2-4a7a-cb12-791067f124e6",
        "colab": {
          "base_uri": "https://localhost:8080/"
        }
      },
      "execution_count": null,
      "outputs": [
        {
          "output_type": "stream",
          "name": "stdout",
          "text": [
            "9/9 [==============================] - 0s 2ms/step - loss: 1.4409 - accuracy: 0.5956\n"
          ]
        },
        {
          "output_type": "execute_result",
          "data": {
            "text/plain": [
              "[1.4408923387527466, 0.595588207244873]"
            ]
          },
          "metadata": {},
          "execution_count": 43
        }
      ]
    },
    {
      "cell_type": "code",
      "source": [],
      "metadata": {
        "id": "-cuPiLDJmZ9j"
      },
      "execution_count": null,
      "outputs": []
    }
  ]
}