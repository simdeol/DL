{
  "nbformat": 4,
  "nbformat_minor": 0,
  "metadata": {
    "colab": {
      "provenance": []
    },
    "kernelspec": {
      "name": "python3",
      "display_name": "Python 3"
    },
    "language_info": {
      "name": "python"
    }
  },
  "cells": [
    {
      "cell_type": "code",
      "source": [
        "import numpy as np\n",
        "# Stochastic Encoder\n",
        "def encode(data):\n",
        "    # Generate a probability distribution over possible values\n",
        "    probabilities = np.random.rand(len(data))\n",
        "    probabilities /= probabilities.sum()\n",
        "    \n",
        "    # Sample a value from the distribution\n",
        "    index = np.random.choice(len(data), p=probabilities)\n",
        "    value = data[index]\n",
        "    \n",
        "    return value, probabilities"
      ],
      "metadata": {
        "id": "WZkeoHMWrg4S"
      },
      "execution_count": 14,
      "outputs": []
    },
    {
      "cell_type": "code",
      "source": [
        "encode([5,4,2])"
      ],
      "metadata": {
        "colab": {
          "base_uri": "https://localhost:8080/"
        },
        "id": "Nmm9mOiwrngW",
        "outputId": "73fa4da7-e25e-471c-c153-85b2b8a09f74"
      },
      "execution_count": 15,
      "outputs": [
        {
          "output_type": "execute_result",
          "data": {
            "text/plain": [
              "(5, array([0.72587109, 0.14428887, 0.12984003]))"
            ]
          },
          "metadata": {},
          "execution_count": 15
        }
      ]
    },
    {
      "cell_type": "code",
      "execution_count": 12,
      "metadata": {
        "id": "dfuMc-xKoqAa"
      },
      "outputs": [],
      "source": [
        "# Stochastic Decoder\n",
        "def decode(value, probabilities):\n",
        "    # Reconstruct the probability distribution\n",
        "    index = np.argmin(np.abs(value - np.arange(len(probabilities))))\n",
        "    probabilities[index] /= probabilities.sum()\n",
        "    \n",
        "    # Reconstruct the original data\n",
        "    data = np.random.choice(len(probabilities), p=probabilities, size=len(probabilities))\n",
        "    \n",
        "    return data"
      ]
    },
    {
      "cell_type": "code",
      "source": [
        "decode(5, np.array([0.72587109, 0.14428887, 0.12984003]))"
      ],
      "metadata": {
        "colab": {
          "base_uri": "https://localhost:8080/"
        },
        "id": "zVmteuTSrm9p",
        "outputId": "45022d55-fc03-4a3a-fbeb-ebccf6ba84c7"
      },
      "execution_count": 16,
      "outputs": [
        {
          "output_type": "execute_result",
          "data": {
            "text/plain": [
              "array([0, 0, 1])"
            ]
          },
          "metadata": {},
          "execution_count": 16
        }
      ]
    },
    {
      "cell_type": "code",
      "source": [],
      "metadata": {
        "id": "wNsNcax4r1oA"
      },
      "execution_count": null,
      "outputs": []
    }
  ]
}